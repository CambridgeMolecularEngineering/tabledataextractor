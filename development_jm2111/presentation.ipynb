{
 "cells": [
  {
   "cell_type": "code",
   "execution_count": 1,
   "metadata": {},
   "outputs": [],
   "source": [
    "from tabledataextractor import Table\n",
    "from tabledataextractor.input import from_any\n",
    "from tabledataextractor.output.print import print_table"
   ]
  },
  {
   "cell_type": "code",
   "execution_count": 4,
   "metadata": {},
   "outputs": [],
   "source": [
    "data_path = 'C:\\\\Users\\\\juras\\\\OneDrive - University Of Cambridge\\\\Projects\\\\' \\\n",
    "           'AmorphousDatabase\\\\TableDataExtractor\\\\development_jm2111\\\\data\\\\'"
   ]
  },
  {
   "cell_type": "code",
   "execution_count": 5,
   "metadata": {},
   "outputs": [
    {
     "name": "stdout",
     "output_type": "stream",
     "text": [
      "Table(C:\\Users\\juras\\OneDrive - University Of Cambridge\\Projects\\AmorphousDatabase\\TableDataExtractor\\development_jm2111\\data\\table_example.csv, table_number=1)\n",
      "\n",
      "                           Rutile      Rutile  Rutile  Anatase     Anatase  Anatase  \n",
      "                           a = b (Ã…)  c (Ã…)  u       a = b (Ã…)  c (Ã…)   u        \n",
      "Computational  This study  4.64        2.99    0.305   3.83        9.62     0.208    \n",
      "Computational  GGA [25]    4.67        2.97    0.305   3.80        9.67     0.207    \n",
      "Computational  GGA [26]    4.63        2.98    0.305   â€“         â€“      â€“      \n",
      "Computational  HF [27]     â€“         â€“     â€“     3.76        9.85     0.202    \n",
      "Experimental   Expt. [23]  4.594       2.958   0.305   3.785       9.514    0.207    \n",
      "\n",
      "                           Rutile      Rutile     Rutile     Anatase     Anatase    Anatase    \n",
      "                           a = b (Ã…)  c (Ã…)     u          a = b (Ã…)  c (Ã…)     u          \n",
      "Computational  This study  4.64        2.99       0.305      3.83        9.62       0.208      \n",
      "Computational  GGA [25]    4.67        2.97       0.305      3.80        9.67       0.207      \n",
      "Computational  GGA [26]    4.63        2.98       0.305      â€“         â€“        â€“        \n",
      "Computational  HF [27]     â€“         â€“        â€“        3.76        9.85       0.202      \n",
      "Experimental   Expt. [23]  4.594       2.958      0.305      3.785       9.514      0.207      \n",
      "                                                                                               \n",
      "TableTitle     StubHeader  ColHeader   ColHeader  ColHeader  ColHeader   ColHeader  ColHeader  \n",
      "/              StubHeader  ColHeader   ColHeader  ColHeader  ColHeader   ColHeader  ColHeader  \n",
      "Note           RowHeader   Data        Data       Data       Data        Data       Data       \n",
      "Note           RowHeader   Data        Data       Data       Data        Data       Data       \n",
      "Note           RowHeader   Data        Data       Data       Data        Data       Data       \n",
      "Note           RowHeader   Data        Data       Data       Data        Data       Data       \n",
      "Note           RowHeader   Data        Data       Data       Data        Data       Data       \n",
      "\n",
      "\n"
     ]
    }
   ],
   "source": [
    "table = Table(data_path + 'table_example.csv')\n",
    "print(repr(table))"
   ]
  },
  {
   "cell_type": "code",
   "execution_count": 6,
   "metadata": {},
   "outputs": [
    {
     "name": "stdout",
     "output_type": "stream",
     "text": [
      "Table(C:\\Users\\juras\\OneDrive - University Of Cambridge\\Projects\\AmorphousDatabase\\TableDataExtractor\\development_jm2111\\data\\table_example.html, table_number=1)\n",
      "\n",
      "               Rutile        Rutile    Rutile    Anatase       Anatase    Anatase   \n",
      "                a = b (Å)     c (Å)     u         a = b (Å)     c (Å)      u        \n",
      " This study    4.64          2.99      0.305     3.83          9.62       0.208     \n",
      " GGA [25]      4.67          2.97      0.305     3.80          9.67       0.207     \n",
      " GGA [26]      4.63          2.98      0.305     –             –          –         \n",
      " HF [27]       –             –         –         3.76          9.85       0.202     \n",
      " Expt. [23]    4.594         2.958     0.305     3.785         9.514      0.207     \n",
      "\n",
      "               Rutile        Rutile     Rutile     Anatase       Anatase    Anatase   \n",
      "                a = b (Å)     c (Å)      u          a = b (Å)     c (Å)      u        \n",
      " This study    4.64          2.99       0.305      3.83          9.62       0.208     \n",
      " GGA [25]      4.67          2.97       0.305      3.80          9.67       0.207     \n",
      " GGA [26]      4.63          2.98       0.305      –             –          –         \n",
      " HF [27]       –             –          –          3.76          9.85       0.202     \n",
      " Expt. [23]    4.594         2.958      0.305      3.785         9.514      0.207     \n",
      "                                                                                      \n",
      "StubHeader    ColHeader     ColHeader  ColHeader  ColHeader     ColHeader  ColHeader  \n",
      "StubHeader    ColHeader     ColHeader  ColHeader  ColHeader     ColHeader  ColHeader  \n",
      "RowHeader     Data          Data       Data       Data          Data       Data       \n",
      "RowHeader     Data          Data       Data       Data          Data       Data       \n",
      "RowHeader     Data          Data       Data       Data          Data       Data       \n",
      "RowHeader     Data          Data       Data       Data          Data       Data       \n",
      "RowHeader     Data          Data       Data       Data          Data       Data       \n",
      "\n",
      "\n"
     ]
    }
   ],
   "source": [
    "table = Table(data_path + 'table_example.html')\n",
    "print(repr(table))"
   ]
  },
  {
   "cell_type": "code",
   "execution_count": 8,
   "metadata": {},
   "outputs": [
    {
     "name": "stdout",
     "output_type": "stream",
     "text": [
      "Table(C:\\Users\\juras\\OneDrive - University Of Cambridge\\Projects\\AmorphousDatabase\\TableDataExtractor\\development_jm2111\\data\\table_example1.csv, table_number=1)\n",
      "\n",
      "\"\"             \"\"          Rutile     Rutile  Rutile  Anatase    Anatase  Anatase  \n",
      "\"\"             \"\"          a = b (A)  c (A)   u       a = b (A)  c (A)    u        \n",
      "Computational  This study  4.64       2.99    0.305   3.83       9.62     0.208    \n",
      "Computational  GGA [25]    4.67       2.97    0.305   3.80       9.67     0.207    \n",
      "Computational  GGA [26]    4.63       2.98    0.305   \"\"         \"\"       \"\"       \n",
      "Computational  HF [27]     \"\"         \"\"      \"\"      3.76       9.85     0.202    \n",
      "Experimental   Expt. [23]  4.594      2.958   0.305   3.785      9.514    0.207    \n",
      "\n",
      "\"\"             \"\"          Rutile     Rutile     Rutile     Anatase    Anatase    Anatase    \n",
      "\"\"             \"\"          a = b (A)  c (A)      u          a = b (A)  c (A)      u          \n",
      "Computational  This study  4.64       2.99       0.305      3.83       9.62       0.208      \n",
      "Computational  GGA [25]    4.67       2.97       0.305      3.80       9.67       0.207      \n",
      "Computational  GGA [26]    4.63       2.98       0.305      \"\"         \"\"         \"\"         \n",
      "Computational  HF [27]     \"\"         \"\"         \"\"         3.76       9.85       0.202      \n",
      "Experimental   Expt. [23]  4.594      2.958      0.305      3.785      9.514      0.207      \n",
      "                                                                                             \n",
      "TableTitle     StubHeader  ColHeader  ColHeader  ColHeader  ColHeader  ColHeader  ColHeader  \n",
      "/              StubHeader  ColHeader  ColHeader  ColHeader  ColHeader  ColHeader  ColHeader  \n",
      "Note           RowHeader   Data       Data       Data       Data       Data       Data       \n",
      "Note           RowHeader   Data       Data       Data       Data       Data       Data       \n",
      "Note           RowHeader   Data       Data       Data       Data       Data       Data       \n",
      "Note           RowHeader   Data       Data       Data       Data       Data       Data       \n",
      "Note           RowHeader   Data       Data       Data       Data       Data       Data       \n",
      "\n",
      "\n"
     ]
    }
   ],
   "source": [
    "table = Table(data_path + 'table_example1.csv')\n",
    "print(repr(table))"
   ]
  },
  {
   "cell_type": "code",
   "execution_count": 9,
   "metadata": {},
   "outputs": [
    {
     "name": "stdout",
     "output_type": "stream",
     "text": [
      "Table(C:\\Users\\juras\\OneDrive - University Of Cambridge\\Projects\\AmorphousDatabase\\TableDataExtractor\\development_jm2111\\data\\table_example2.csv, table_number=1)\n",
      "\n",
      "2006                     2006                        2006                  2007                     2007                        2007                  \n",
      "Government transfers     Government transfers        Government transfers  Government transfers     Government transfers        Government transfers  \n",
      "Average $ constant 2007  Implicit transfer rates1 %  Shares %              Average $ constant 2007  Implicit transfer rates1 %  Shares %              \n",
      "4.640                    2.990                       0.305                 3.830                    9.620                       0.208                 \n",
      "4.630                    2.980                       0.305                                                                                            \n",
      "\n",
      "2006                     2006                        2006                  2007                     2007                        2007                  \n",
      "Government transfers     Government transfers        Government transfers  Government transfers     Government transfers        Government transfers  \n",
      "Average $ constant 2007  Implicit transfer rates1 %  Shares %              Average $ constant 2007  Implicit transfer rates1 %  Shares %              \n",
      "4.640                    2.990                       0.305                 3.830                    9.620                       0.208                 \n",
      "4.630                    2.980                       0.305                                                                                            \n",
      "                                                                                                                                                      \n",
      "StubHeader               ColHeader                   ColHeader             ColHeader                ColHeader                   ColHeader             \n",
      "StubHeader               ColHeader                   ColHeader             ColHeader                ColHeader                   ColHeader             \n",
      "StubHeader               ColHeader                   ColHeader             ColHeader                ColHeader                   ColHeader             \n",
      "RowHeader                Data                        Data                  Data                     Data                        Data                  \n",
      "Note                     Note                        Note                  /                        /                           /                     \n",
      "\n",
      "\n"
     ]
    }
   ],
   "source": [
    "table = Table(data_path + 'table_example2.csv')\n",
    "print(repr(table))"
   ]
  },
  {
   "cell_type": "code",
   "execution_count": 10,
   "metadata": {},
   "outputs": [
    {
     "name": "stdout",
     "output_type": "stream",
     "text": [
      "Table(C:\\Users\\juras\\OneDrive - University Of Cambridge\\Projects\\AmorphousDatabase\\TableDataExtractor\\development_jm2111\\data\\table_example4.csv, table_number=1)\n",
      "\n",
      "Table 9. Numbers of outgoing short messages  Table 9. Numbers of outgoing short messages  Table 9. Numbers of outgoing short messages  Table 9. Numbers of outgoing short messages  Table 9. Numbers of outgoing short messages  Table 9. Numbers of outgoing short messages  \n",
      "Year                                         Short messages/thousands                     Change %                                     Short messages/subscription                  Multimedia messages/thousands                Change %                                     \n",
      "2003                                         1647218                                      24.3                                         347                                          2314                                                                                      \n",
      "2004                                         2193498                                      33.2                                         439                                          7386                                         219.2                                        \n",
      "\n",
      "Table 9. Numbers of outgoing short messages  Table 9. Numbers of outgoing short messages  Table 9. Numbers of outgoing short messages  Table 9. Numbers of outgoing short messages  Table 9. Numbers of outgoing short messages  Table 9. Numbers of outgoing short messages  \n",
      "                                                                                          Short messages/thousands                                                                                                               Multimedia messages/thousands                \n",
      "Year                                         Short messages/thousands                     Change %                                     Short messages/subscription                  Multimedia messages/thousands                Change %                                     \n",
      "2003                                         1647218                                      24.3                                         347                                          2314                                                                                      \n",
      "2004                                         2193498                                      33.2                                         439                                          7386                                         219.2                                        \n",
      "                                                                                                                                                                                                                                                                              \n",
      "TableTitle                                   TableTitle                                   TableTitle                                   TableTitle                                   TableTitle                                   TableTitle                                   \n",
      "StubHeader                                   ColHeader                                    ColHeader                                    ColHeader                                    ColHeader                                    ColHeader                                    \n",
      "StubHeader                                   ColHeader                                    ColHeader                                    ColHeader                                    ColHeader                                    ColHeader                                    \n",
      "RowHeader                                    Data                                         Data                                         Data                                         Data                                         Data                                         \n",
      "RowHeader                                    Data                                         Data                                         Data                                         Data                                         Data                                         \n",
      "\n",
      "\n"
     ]
    }
   ],
   "source": [
    "table = Table(data_path + 'table_example4.csv')\n",
    "print(repr(table))"
   ]
  },
  {
   "cell_type": "code",
   "execution_count": 9,
   "metadata": {},
   "outputs": [
    {
     "name": "stdout",
     "output_type": "stream",
     "text": [
      "Table(C:\\Users\\juras\\OneDrive - University Of Cambridge\\Projects\\AmorphousDatabase\\TableDataExtractor\\development_jm2111\\data\\table_example4_3.csv, table_number=1)\n",
      "\n",
      "Title                          Title    Title    \n",
      "Year                           2003     2004     \n",
      "Short messages/thousands       1647218  2193498  \n",
      "Change %                       24.3     33.2     \n",
      "Short messages/subscription    347      439      \n",
      "Multimedia messages/thousands  2314     7386     \n",
      "Change %                                219.2    \n",
      "\n",
      "                               Title                          Title       Title       \n",
      "                               Year                           2003        2004        \n",
      "                               Short messages/thousands       1647218     2193498     \n",
      "Short messages/thousands       Change %                       24.3        33.2        \n",
      "                               Short messages/subscription    347         439         \n",
      "                               Multimedia messages/thousands  2314        7386        \n",
      "Multimedia messages/thousands  Change %                                   219.2       \n",
      "                                                                                      \n",
      "TableTitle                     TableTitle                     TableTitle  TableTitle  \n",
      "StubHeader                     StubHeader                     ColHeader   ColHeader   \n",
      "RowHeader                      RowHeader                      Data        Data        \n",
      "RowHeader                      RowHeader                      Data        Data        \n",
      "RowHeader                      RowHeader                      Data        Data        \n",
      "RowHeader                      RowHeader                      Data        Data        \n",
      "RowHeader                      RowHeader                      Data        Data        \n",
      "\n",
      "\n"
     ]
    }
   ],
   "source": [
    "table = Table(data_path + 'table_example4_3.csv')\n",
    "print(repr(table))"
   ]
  },
  {
   "cell_type": "code",
   "execution_count": 10,
   "metadata": {},
   "outputs": [
    {
     "name": "stdout",
     "output_type": "stream",
     "text": [
      "Table(C:\\Users\\juras\\OneDrive - University Of Cambridge\\Projects\\AmorphousDatabase\\TableDataExtractor\\development_jm2111\\data\\table_example5.csv, table_number=1)\n",
      "\n",
      "Title  Title                     Title       Title                         Title                          Title       \n",
      "                                 Category A                                                               Category B  \n",
      "Year   Short messages/thousands  Change %     Short messages/subscription  Multimedia messages/thousands  Change %    \n",
      "2003   1647218                   24.3        347                           2314                                       \n",
      "2004   2193498                   33.2        439                           7386                           219.2       \n",
      "\n",
      "Title       Title                     Title       Title                         Title                          Title       \n",
      "                                      Category A                                                               Category B  \n",
      "Year        Short messages/thousands  Change %     Short messages/subscription  Multimedia messages/thousands  Change %    \n",
      "2003        1647218                   24.3        347                           2314                                       \n",
      "2004        2193498                   33.2        439                           7386                           219.2       \n",
      "                                                                                                                           \n",
      "TableTitle  TableTitle                TableTitle  TableTitle                    TableTitle                     TableTitle  \n",
      "StubHeader  ColHeader                 ColHeader   ColHeader                     ColHeader                      ColHeader   \n",
      "StubHeader  ColHeader                 ColHeader   ColHeader                     ColHeader                      ColHeader   \n",
      "RowHeader   Data                      Data        Data                          Data                           Data        \n",
      "RowHeader   Data                      Data        Data                          Data                           Data        \n",
      "\n",
      "\n"
     ]
    }
   ],
   "source": [
    "table = Table(data_path + 'table_example5.csv')\n",
    "print(repr(table))"
   ]
  },
  {
   "cell_type": "code",
   "execution_count": 11,
   "metadata": {},
   "outputs": [
    {
     "name": "stdout",
     "output_type": "stream",
     "text": [
      "Table(C:\\Users\\juras\\OneDrive - University Of Cambridge\\Projects\\AmorphousDatabase\\TableDataExtractor\\development_jm2111\\data\\table_example6.csv, table_number=1)\n",
      "\n",
      "Material  Tc     Material     Tc     \n",
      "Bi6Tl3    6.5 K  TiN          1.4 K  \n",
      "Sb2Tl7    5.5    TiC          1.1    \n",
      "Na2Pb5    7.2    TaC          9.2    \n",
      "Hg5Tl7    3.8    NbC          10.1   \n",
      "Au2Bi     1.84   ZrB          2.82   \n",
      "CuS       1.6    TaSi         4.2    \n",
      "VN        1.3    PbS          4.1    \n",
      "WC        2.8    Pb-As alloy  8.4    \n",
      "W2C       2.05   Pb-Sn-Bi     8.5    \n",
      "MoC       7.7    Pb-As-Bi     9.0    \n",
      "Mo2C      2.4    Pb-Bi-Sb     8.9    \n",
      "\n",
      "Material    Tc          Material     Tc          \n",
      "Bi6Tl3      6.5 K       TiN          1.4 K       \n",
      "Sb2Tl7      5.5         TiC          1.1         \n",
      "Na2Pb5      7.2         TaC          9.2         \n",
      "Hg5Tl7      3.8         NbC          10.1        \n",
      "Au2Bi       1.84        ZrB          2.82        \n",
      "CuS         1.6         TaSi         4.2         \n",
      "VN          1.3         PbS          4.1         \n",
      "WC          2.8         Pb-As alloy  8.4         \n",
      "W2C         2.05        Pb-Sn-Bi     8.5         \n",
      "MoC         7.7         Pb-As-Bi     9.0         \n",
      "Mo2C        2.4         Pb-Bi-Sb     8.9         \n",
      "                                                 \n",
      "TableTitle  TableTitle  TableTitle   TableTitle  \n",
      "StubHeader  ColHeader   ColHeader    ColHeader   \n",
      "RowHeader   Data        Data         Data        \n",
      "RowHeader   Data        Data         Data        \n",
      "RowHeader   Data        Data         Data        \n",
      "RowHeader   Data        Data         Data        \n",
      "RowHeader   Data        Data         Data        \n",
      "RowHeader   Data        Data         Data        \n",
      "RowHeader   Data        Data         Data        \n",
      "RowHeader   Data        Data         Data        \n",
      "RowHeader   Data        Data         Data        \n",
      "RowHeader   Data        Data         Data        \n",
      "\n",
      "\n"
     ]
    }
   ],
   "source": [
    "table = Table(data_path + 'table_example6.csv')\n",
    "print(repr(table))"
   ]
  },
  {
   "cell_type": "code",
   "execution_count": 12,
   "metadata": {},
   "outputs": [
    {
     "name": "stdout",
     "output_type": "stream",
     "text": [
      "Table(C:\\Users\\juras\\OneDrive - University Of Cambridge\\Projects\\AmorphousDatabase\\TableDataExtractor\\development_jm2111\\data\\table_example_10.csv, table_number=1)\n",
      "\n",
      "Simulation approach  TiOx building block fraction (%)  TiOx building block fraction (%)  TiOx building block fraction (%)  TiOx building block fraction (%)  TiOx building block fraction (%)  Mean coord. number  \n",
      "\"\"                   TiO4                              TiO5                              TiO6                              TiO7                              TiO8                              \"\"                  \n",
      "CPMD                 1.4                               18.3                              62                                18.3                                                                5.96                \n",
      "CPMD + VASP                                            25                                50                                25                                                                  6.00                \n",
      "DFTB                 9                                 43                                48                                                                                                    5.40                \n",
      "DFTB + VASP          2.7                               27.4                              47.9                              19.2                              2.7                               5.82                \n",
      "\n",
      "Simulation approach  TiOx building block fraction (%)  TiOx building block fraction (%)  TiOx building block fraction (%)  TiOx building block fraction (%)  TiOx building block fraction (%)  Mean coord. number  \n",
      "\"\"                   TiO4                              TiO5                              TiO6                              TiO7                              TiO8                              \"\"                  \n",
      "CPMD                 1.4                               18.3                              62                                18.3                                                                5.96                \n",
      "CPMD + VASP                                            25                                50                                25                                                                  6.00                \n",
      "DFTB                 9                                 43                                48                                                                                                    5.40                \n",
      "DFTB + VASP          2.7                               27.4                              47.9                              19.2                              2.7                               5.82                \n",
      "                                                                                                                                                                                                                   \n",
      "TableTitle           TableTitle                        TableTitle                        TableTitle                        TableTitle                        TableTitle                        TableTitle          \n",
      "StubHeader           ColHeader                         ColHeader                         ColHeader                         ColHeader                         ColHeader                         ColHeader           \n",
      "RowHeader            Data                              Data                              Data                              Data                              Data                              Data                \n",
      "RowHeader            Data                              Data                              Data                              Data                              Data                              Data                \n",
      "RowHeader            Data                              Data                              Data                              Data                              Data                              Data                \n",
      "RowHeader            Data                              Data                              Data                              Data                              Data                              Data                \n",
      "\n",
      "\n"
     ]
    }
   ],
   "source": [
    "table = Table(data_path + 'table_example_10.csv')\n",
    "print(repr(table))"
   ]
  },
  {
   "cell_type": "code",
   "execution_count": 13,
   "metadata": {},
   "outputs": [
    {
     "name": "stdout",
     "output_type": "stream",
     "text": [
      "Table(C:\\Users\\juras\\OneDrive - University Of Cambridge\\Projects\\AmorphousDatabase\\TableDataExtractor\\development_jm2111\\data\\table_example_11.csv, table_number=1)\n",
      "\n",
      "\"\"                                    \"\"      nTiO           nTiO           \"\"        \n",
      "\"\"                                    RX (%)  rcut = 2.44 A  rcut = 2.75 A  rTiO (A)  \n",
      "Melt                                  \"\"      5.0(2)         \"\"             1.881(5)  \n",
      "This paper                            2.55    4.71           5.17           1.87      \n",
      "Modified Teter                        4.56    4.68           4.98           1.86      \n",
      "Pedone                                6.07    40             4.71           1.82      \n",
      "MA                                    5.82    4.35           4.89           1.92      \n",
      "EPSR                                  0.54    4.82           5.30           1.87      \n",
      "Rutile measured                       \"\"      5.7(2) a       5.7(2) a       1.962(5)  \n",
      "Rutile ideal                          \"\"      6.00           6.00           1.959     \n",
      "a From peak fit and not integration.                                                  \n",
      "\n",
      "\"\"                                    \"\"          nTiO           nTiO           \"\"          \n",
      "\"\"                                    RX (%)      rcut = 2.44 A  rcut = 2.75 A  rTiO (A)    \n",
      "Melt                                  \"\"          5.0(2)         \"\"             1.881(5)    \n",
      "This paper                            2.55        4.71           5.17           1.87        \n",
      "Modified Teter                        4.56        4.68           4.98           1.86        \n",
      "Pedone                                6.07        40             4.71           1.82        \n",
      "MA                                    5.82        4.35           4.89           1.92        \n",
      "EPSR                                  0.54        4.82           5.30           1.87        \n",
      "Rutile measured                       \"\"          5.7(2) a       5.7(2) a       1.962(5)    \n",
      "Rutile ideal                          \"\"          6.00           6.00           1.959       \n",
      "a From peak fit and not integration.                                                        \n",
      "                                                                                            \n",
      "TableTitle                            TableTitle  TableTitle     TableTitle     TableTitle  \n",
      "StubHeader                            ColHeader   ColHeader      ColHeader      ColHeader   \n",
      "RowHeader                             Data        Data           Data           Data        \n",
      "RowHeader                             Data        Data           Data           Data        \n",
      "RowHeader                             Data        Data           Data           Data        \n",
      "RowHeader                             Data        Data           Data           Data        \n",
      "RowHeader                             Data        Data           Data           Data        \n",
      "RowHeader                             Data        Data           Data           Data        \n",
      "RowHeader                             Data        Data & FNref   Data & FNref   Data        \n",
      "RowHeader                             Data        Data           Data           Data        \n",
      "FNprefix & FNtext                     /           /              /              /           \n",
      "\n",
      "\n"
     ]
    }
   ],
   "source": [
    "table = Table(data_path + 'table_example_11.csv')\n",
    "print(repr(table))"
   ]
  },
  {
   "cell_type": "code",
   "execution_count": 14,
   "metadata": {},
   "outputs": [
    {
     "name": "stdout",
     "output_type": "stream",
     "text": [
      "Table(C:\\Users\\juras\\OneDrive - University Of Cambridge\\Projects\\AmorphousDatabase\\TableDataExtractor\\development_jm2111\\data\\table_official_development_assistance.csv, table_number=1)\n",
      "\n",
      "1 Official development assistance                                                                                                                                                                                                                                               1 Official development assistance    \n",
      "                                                                                                                                                                                                                                                                                                                     \n",
      "Country                            Million dollar                                                Million dollar  Million dollar  Million dollar  Million dollar  Million dollar  Percentage of GNI  Percentage of GNI  Percentage of GNI  Percentage of GNI  Percentage of GNI  Country                              \n",
      "                                   2007                                                          2009            2008            2009            2010*           2011*           2007               2008               2009               2010*              2011*                                                   \n",
      "                                   2007                                                          2009            2008            2009            2010*           2011*           2007               2008               2009               2010*              2011*                                                   \n",
      "Norwaya)                           3735                                                          4081            4006            4081            4580            4936            0.95               0.89               1.06               1.1                1                  Norwaya)                             \n",
      "Denmark                            2562                                                          2810            2803            2810            2871            2981            0.81               0.82               0.88               0.91               0.86               Denmark                              \n",
      "Australia                          2669                                                          2762            2954            2762            3826            4799            0.32               0.32               0.29               0.32               0.35               Australia                            \n",
      "New Zealand                        320                                                           309             348             309             342             429             0.27               0.3                0.28               0.26               0.28               New Zealand                          \n",
      "OECD/DAC 1                         104206                                                        119778          121954          119778          128465          133526          0.27               0.3                0.31               0.32               0.31               OECD/DAC 1                           \n",
      "                                                                                                                                                                                                                                                                                                                     \n",
      "1                                  DAC-countries are members of OECD's Development Assistance C                                                                                                                                                                                 1                                    \n",
      "* Test                             DAC-countries are members of OECD's Development Assistance C                                                                                                                                                                                 * Test                               \n",
      "* Source: OECD.                                                                                                                                                                                                                                                                 * Source: OECD.                      \n",
      "\n",
      "1 Official development assistance                                                                                                                                                                                                                                                                     \n",
      "Country                            Million dollar                                                Million dollar  Million dollar  Million dollar             Million dollar             Percentage of GNI  Percentage of GNI  Percentage of GNI  Percentage of GNI          Percentage of GNI          \n",
      "                                   2007                                                          2009            2008            2010*                      2011*                      2007               2008               2009               2010*                      2011*                      \n",
      "Norwaya)                           3735                                                          4081            4006            4580                       4936                       0.95               0.89               1.06               1.1                        1                          \n",
      "Denmark                            2562                                                          2810            2803            2871                       2981                       0.81               0.82               0.88               0.91                       0.86                       \n",
      "Australia                          2669                                                          2762            2954            3826                       4799                       0.32               0.32               0.29               0.32                       0.35                       \n",
      "New Zealand                        320                                                           309             348             342                        429                        0.27               0.3                0.28               0.26                       0.28                       \n",
      "OECD/DAC 1                         104206                                                        119778          121954          128465                     133526                     0.27               0.3                0.31               0.32                       0.31                       \n",
      "1                                  DAC-countries are members of OECD's Development Assistance C                                                                                                                                                                                                       \n",
      "* Test                             DAC-countries are members of OECD's Development Assistance C                                                                                                                                                                                                       \n",
      "* Source: OECD.                                                                                                                                                                                                                                                                                       \n",
      "                                                                                                                                                                                                                                                                                                      \n",
      "TableTitle                         TableTitle                                                    TableTitle      TableTitle      TableTitle                 TableTitle                 TableTitle         TableTitle         TableTitle         TableTitle                 TableTitle                 \n",
      "StubHeader                         ColHeader                                                     ColHeader       ColHeader       ColHeader                  ColHeader                  ColHeader          ColHeader          ColHeader          ColHeader                  ColHeader                  \n",
      "StubHeader                         ColHeader                                                     ColHeader       ColHeader       ColHeader & FNref & FNref  ColHeader & FNref & FNref  ColHeader          ColHeader          ColHeader          ColHeader & FNref & FNref  ColHeader & FNref & FNref  \n",
      "RowHeader                          Data                                                          Data            Data            Data                       Data                       Data               Data               Data               Data                       Data                       \n",
      "RowHeader                          Data                                                          Data            Data            Data                       Data                       Data               Data               Data               Data                       Data                       \n",
      "RowHeader                          Data                                                          Data            Data            Data                       Data                       Data               Data               Data               Data                       Data                       \n",
      "RowHeader                          Data                                                          Data            Data            Data                       Data                       Data               Data               Data               Data                       Data                       \n",
      "RowHeader & FNref                  Data                                                          Data            Data            Data                       Data                       Data               Data               Data               Data                       Data                       \n",
      "FNprefix                           FNtext                                                        /               /               /                          /                          /                  /                  /                  /                          /                          \n",
      "FNprefix & FNtext & FNref          Note                                                          /               /               /                          /                          /                  /                  /                  /                          /                          \n",
      "FNprefix & FNtext                  /                                                             /               /               /                          /                          /                  /                  /                  /                          /                          \n",
      "\n",
      "\n"
     ]
    }
   ],
   "source": [
    "table = Table(data_path + 'table_official_development_assistance.csv')\n",
    "print(repr(table))"
   ]
  },
  {
   "cell_type": "code",
   "execution_count": 17,
   "metadata": {},
   "outputs": [],
   "source": [
    "url = 'https://iopscience.iop.org/article/10.1088/0022-3727/46/32/325302/meta'"
   ]
  },
  {
   "cell_type": "code",
   "execution_count": 18,
   "metadata": {},
   "outputs": [
    {
     "name": "stdout",
     "output_type": "stream",
     "text": [
      "Table(https://iopscience.iop.org/article/10.1088/0022-3727/46/32/325302/meta, table_number=1)\n",
      "\n",
      "Model        ρ (g cm−3)  \n",
      "R_{1}^{{\\rm Ti\\mbox{--}Ti}} \\pm \\Delta (Å)  \n",
      "R_{1}^{{\\rm Ti\\mbox{--}O}} \\pm \\Delta (Å)  \n",
      "R_{1}^{{\\rm O\\mbox{--}O}} \\pm \\Delta (Å)  kTi–Ti  kTi–O  kO–Ti  kO–O   Egap (eV)  \n",
      "aTiO2-(I)    3.50        3.38 ± 0.21                                  1.87 ± 0.09                                 2.91 ± 0.22                                6.14    4.44   2.22   9.88   3.14       \n",
      "aTiO2-(II)   3.80        3.37 ± 0.24                                  1.91 ± 0.11                                 2.84 ± 0.24                                7.00    4.87   2.44   9.81   2.30       \n",
      "aTiO2-(III)  4.00        3.38 ± 0.22                                  1.93 ± 0.11                                 2.8 ± 30.23                                7.75    5.10   2.55   10.50  2.93       \n",
      "aTiO2-(IV)   4.20        3.38 ± 0.22                                  1.94 ± 0.1                                  2.80 ± 0.24                                8.69    5.36   2.68   10.76  2.68       \n",
      "aTiO2-(CP)   4.20        3.38 ± 0.22                                  1.99 ± 0.13                                 2.78 ± 0.23                                8.50    5.83   2.92   10.14  2.74       \n",
      "aTiO2-(MA)   4.20        3.41 ± 0.24                                  1.98 ± 0.09                                 2.80 ± 0.25                                8.97    5.81   2.90   10.80  2.70       \n",
      "aTiO2-(V)    4.50        3.32 ± 0.23                                  1.96 ± 0.1                                  2.72 ± 0.23                                8.53    5.79   2.90   10.42  2.12       \n",
      "\n",
      "Model        ρ (g cm−3)  \n",
      "R_{1}^{{\\rm Ti\\mbox{--}Ti}} \\pm \\Delta (Å)  \n",
      "R_{1}^{{\\rm Ti\\mbox{--}O}} \\pm \\Delta (Å)  \n",
      "R_{1}^{{\\rm O\\mbox{--}O}} \\pm \\Delta (Å)  kTi–Ti     kTi–O      kO–Ti      kO–O       Egap (eV)  \n",
      "aTiO2-(I)    3.50        3.38 ± 0.21                                  1.87 ± 0.09                                 2.91 ± 0.22                                6.14       4.44       2.22       9.88       3.14       \n",
      "aTiO2-(II)   3.80        3.37 ± 0.24                                  1.91 ± 0.11                                 2.84 ± 0.24                                7.00       4.87       2.44       9.81       2.30       \n",
      "aTiO2-(III)  4.00        3.38 ± 0.22                                  1.93 ± 0.11                                 2.8 ± 30.23                                7.75       5.10       2.55       10.50      2.93       \n",
      "aTiO2-(IV)   4.20        3.38 ± 0.22                                  1.94 ± 0.1                                  2.80 ± 0.24                                8.69       5.36       2.68       10.76      2.68       \n",
      "aTiO2-(CP)   4.20        3.38 ± 0.22                                  1.99 ± 0.13                                 2.78 ± 0.23                                8.50       5.83       2.92       10.14      2.74       \n",
      "aTiO2-(MA)   4.20        3.41 ± 0.24                                  1.98 ± 0.09                                 2.80 ± 0.25                                8.97       5.81       2.90       10.80      2.70       \n",
      "aTiO2-(V)    4.50        3.32 ± 0.23                                  1.96 ± 0.1                                  2.72 ± 0.23                                8.53       5.79       2.90       10.42      2.12       \n",
      "                                                                                                                                                                                                                    \n",
      "StubHeader   ColHeader   ColHeader                                    ColHeader                                   ColHeader                                  ColHeader  ColHeader  ColHeader  ColHeader  ColHeader  \n",
      "RowHeader    Data        Data                                         Data                                        Data                                       Data       Data       Data       Data       Data       \n",
      "RowHeader    Data        Data                                         Data                                        Data                                       Data       Data       Data       Data       Data       \n",
      "RowHeader    Data        Data                                         Data                                        Data                                       Data       Data       Data       Data       Data       \n",
      "RowHeader    Data        Data                                         Data                                        Data                                       Data       Data       Data       Data       Data       \n",
      "RowHeader    Data        Data                                         Data                                        Data                                       Data       Data       Data       Data       Data       \n",
      "RowHeader    Data        Data                                         Data                                        Data                                       Data       Data       Data       Data       Data       \n",
      "RowHeader    Data        Data                                         Data                                        Data                                       Data       Data       Data       Data       Data       \n",
      "\n",
      "\n"
     ]
    }
   ],
   "source": [
    "table = Table(url)\n",
    "print(repr(table))"
   ]
  },
  {
   "cell_type": "code",
   "execution_count": null,
   "metadata": {},
   "outputs": [],
   "source": [
    "url = 'https://link.springer.com/article/10.1007%2Fs10853-012-6439-6'"
   ]
  }
 ],
 "metadata": {
  "kernelspec": {
   "display_name": "Python 3",
   "language": "python",
   "name": "python3"
  },
  "language_info": {
   "codemirror_mode": {
    "name": "ipython",
    "version": 3
   },
   "file_extension": ".py",
   "mimetype": "text/x-python",
   "name": "python",
   "nbconvert_exporter": "python",
   "pygments_lexer": "ipython3",
   "version": "3.6.4"
  }
 },
 "nbformat": 4,
 "nbformat_minor": 1
}
