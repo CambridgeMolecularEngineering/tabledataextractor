{
 "cells": [
  {
   "cell_type": "code",
   "execution_count": 1,
   "metadata": {},
   "outputs": [],
   "source": [
    "from tabledataextractor import Table"
   ]
  },
  {
   "cell_type": "markdown",
   "metadata": {},
   "source": [
    "Input\n",
    "=========\n",
    "\n",
    "* from file, as .csv or .html\n",
    "* from url (if there are more tables at the provided url, use the \"table_number=\" argument)\n",
    "* from python list object\n"
   ]
  },
  {
   "cell_type": "code",
   "execution_count": 2,
   "metadata": {},
   "outputs": [],
   "source": [
    "table_path = './tables/table_example.csv'\n",
    "table = Table(table_path)"
   ]
  },
  {
   "cell_type": "code",
   "execution_count": 3,
   "metadata": {},
   "outputs": [
    {
     "name": "stdout",
     "output_type": "stream",
     "text": [
      "                           Rutile      Rutile  Rutile  Anatase     Anatase  Anatase  \n",
      "                           a = b (Ã…)  c (Ã…)  u       a = b (Ã…)  c (Ã…)   u        \n",
      "Computational  This study  4.64        2.99    0.305   3.83        9.62     0.208    \n",
      "Computational  GGA [25]    4.67        2.97    0.305   3.80        9.67     0.207    \n",
      "Computational  GGA [26]    4.63        2.98    0.305   -           -        -        \n",
      "Computational  HF [27]     -           -       -       3.76        9.85     0.202    \n",
      "Experimental   Expt. [23]  4.594       2.958   0.305   3.785       9.514    0.207    \n",
      "\n",
      "\n"
     ]
    }
   ],
   "source": [
    "# use print to see the table\n",
    "print(table)"
   ]
  },
  {
   "cell_type": "code",
   "execution_count": 4,
   "metadata": {
    "scrolled": true
   },
   "outputs": [
    {
     "data": {
      "text/plain": [
       "Table(./tables/table_example.csv, table_number=1, transposed=False)\n",
       "\n",
       "                           Rutile      Rutile  Rutile  Anatase     Anatase  Anatase  \n",
       "                           a = b (Ã…)  c (Ã…)  u       a = b (Ã…)  c (Ã…)   u        \n",
       "Computational  This study  4.64        2.99    0.305   3.83        9.62     0.208    \n",
       "Computational  GGA [25]    4.67        2.97    0.305   3.80        9.67     0.207    \n",
       "Computational  GGA [26]    4.63        2.98    0.305   -           -        -        \n",
       "Computational  HF [27]     -           -       -       3.76        9.85     0.202    \n",
       "Experimental   Expt. [23]  4.594       2.958   0.305   3.785       9.514    0.207    \n",
       "\n",
       "                           Rutile      Rutile     Rutile     Anatase     Anatase    Anatase    \n",
       "                           a = b (Ã…)  c (Ã…)     u          a = b (Ã…)  c (Ã…)     u          \n",
       "Computational  This study  4.64        2.99       0.305      3.83        9.62       0.208      \n",
       "Computational  GGA [25]    4.67        2.97       0.305      3.80        9.67       0.207      \n",
       "Computational  GGA [26]    4.63        2.98       0.305      -           -          -          \n",
       "Computational  HF [27]     -           -          -          3.76        9.85       0.202      \n",
       "Experimental   Expt. [23]  4.594       2.958      0.305      3.785       9.514      0.207      \n",
       "                                                                                               \n",
       "TableTitle     StubHeader  ColHeader   ColHeader  ColHeader  ColHeader   ColHeader  ColHeader  \n",
       "/              StubHeader  ColHeader   ColHeader  ColHeader  ColHeader   ColHeader  ColHeader  \n",
       "Note           RowHeader   Data        Data       Data       Data        Data       Data       \n",
       "Note           RowHeader   Data        Data       Data       Data        Data       Data       \n",
       "Note           RowHeader   Data        Data       Data       Data        Data       Data       \n",
       "Note           RowHeader   Data        Data       Data       Data        Data       Data       \n",
       "Note           RowHeader   Data        Data       Data       Data        Data       Data       \n",
       "\n",
       "+-------+----------------+---------------------------+\n",
       "|  Data | Row Categories |     Column Categories     |\n",
       "+-------+----------------+---------------------------+\n",
       "|  4.64 | ['This study'] |  ['Rutile', 'a = b (Ã…)'] |\n",
       "|  2.99 | ['This study'] |    ['Rutile', 'c (Ã…)']   |\n",
       "| 0.305 | ['This study'] |      ['Rutile', 'u']      |\n",
       "|  3.83 | ['This study'] | ['Anatase', 'a = b (Ã…)'] |\n",
       "|  9.62 | ['This study'] |   ['Anatase', 'c (Ã…)']   |\n",
       "| 0.208 | ['This study'] |      ['Anatase', 'u']     |\n",
       "|  4.67 |  ['GGA [25]']  |  ['Rutile', 'a = b (Ã…)'] |\n",
       "|  2.97 |  ['GGA [25]']  |    ['Rutile', 'c (Ã…)']   |\n",
       "| 0.305 |  ['GGA [25]']  |      ['Rutile', 'u']      |\n",
       "|  3.80 |  ['GGA [25]']  | ['Anatase', 'a = b (Ã…)'] |\n",
       "|  9.67 |  ['GGA [25]']  |   ['Anatase', 'c (Ã…)']   |\n",
       "| 0.207 |  ['GGA [25]']  |      ['Anatase', 'u']     |\n",
       "|  4.63 |  ['GGA [26]']  |  ['Rutile', 'a = b (Ã…)'] |\n",
       "|  2.98 |  ['GGA [26]']  |    ['Rutile', 'c (Ã…)']   |\n",
       "| 0.305 |  ['GGA [26]']  |      ['Rutile', 'u']      |\n",
       "|   -   |  ['GGA [26]']  | ['Anatase', 'a = b (Ã…)'] |\n",
       "|   -   |  ['GGA [26]']  |   ['Anatase', 'c (Ã…)']   |\n",
       "|   -   |  ['GGA [26]']  |      ['Anatase', 'u']     |\n",
       "|   -   |  ['HF [27]']   |  ['Rutile', 'a = b (Ã…)'] |\n",
       "|   -   |  ['HF [27]']   |    ['Rutile', 'c (Ã…)']   |\n",
       "|   -   |  ['HF [27]']   |      ['Rutile', 'u']      |\n",
       "|  3.76 |  ['HF [27]']   | ['Anatase', 'a = b (Ã…)'] |\n",
       "|  9.85 |  ['HF [27]']   |   ['Anatase', 'c (Ã…)']   |\n",
       "| 0.202 |  ['HF [27]']   |      ['Anatase', 'u']     |\n",
       "| 4.594 | ['Expt. [23]'] |  ['Rutile', 'a = b (Ã…)'] |\n",
       "| 2.958 | ['Expt. [23]'] |    ['Rutile', 'c (Ã…)']   |\n",
       "| 0.305 | ['Expt. [23]'] |      ['Rutile', 'u']      |\n",
       "| 3.785 | ['Expt. [23]'] | ['Anatase', 'a = b (Ã…)'] |\n",
       "| 9.514 | ['Expt. [23]'] |   ['Anatase', 'c (Ã…)']   |\n",
       "| 0.207 | ['Expt. [23]'] |      ['Anatase', 'u']     |\n",
       "+-------+----------------+---------------------------+"
      ]
     },
     "execution_count": 4,
     "metadata": {},
     "output_type": "execute_result"
    }
   ],
   "source": [
    "# or, alternatively, to see:\n",
    "# 1. the input table\n",
    "# 2. the cleaned table\n",
    "# 3. the section labelling\n",
    "# 4. the resulting category table\n",
    "table"
   ]
  },
  {
   "cell_type": "code",
   "execution_count": 5,
   "metadata": {
    "scrolled": true
   },
   "outputs": [
    {
     "data": {
      "text/plain": [
       "[['4.64', ['This study'], ['Rutile', 'a = b (Ã…)']],\n",
       " ['2.99', ['This study'], ['Rutile', 'c (Ã…)']],\n",
       " ['0.305', ['This study'], ['Rutile', 'u']],\n",
       " ['3.83', ['This study'], ['Anatase', 'a = b (Ã…)']],\n",
       " ['9.62', ['This study'], ['Anatase', 'c (Ã…)']],\n",
       " ['0.208', ['This study'], ['Anatase', 'u']],\n",
       " ['4.67', ['GGA [25]'], ['Rutile', 'a = b (Ã…)']],\n",
       " ['2.97', ['GGA [25]'], ['Rutile', 'c (Ã…)']],\n",
       " ['0.305', ['GGA [25]'], ['Rutile', 'u']],\n",
       " ['3.80', ['GGA [25]'], ['Anatase', 'a = b (Ã…)']],\n",
       " ['9.67', ['GGA [25]'], ['Anatase', 'c (Ã…)']],\n",
       " ['0.207', ['GGA [25]'], ['Anatase', 'u']],\n",
       " ['4.63', ['GGA [26]'], ['Rutile', 'a = b (Ã…)']],\n",
       " ['2.98', ['GGA [26]'], ['Rutile', 'c (Ã…)']],\n",
       " ['0.305', ['GGA [26]'], ['Rutile', 'u']],\n",
       " ['-', ['GGA [26]'], ['Anatase', 'a = b (Ã…)']],\n",
       " ['-', ['GGA [26]'], ['Anatase', 'c (Ã…)']],\n",
       " ['-', ['GGA [26]'], ['Anatase', 'u']],\n",
       " ['-', ['HF [27]'], ['Rutile', 'a = b (Ã…)']],\n",
       " ['-', ['HF [27]'], ['Rutile', 'c (Ã…)']],\n",
       " ['-', ['HF [27]'], ['Rutile', 'u']],\n",
       " ['3.76', ['HF [27]'], ['Anatase', 'a = b (Ã…)']],\n",
       " ['9.85', ['HF [27]'], ['Anatase', 'c (Ã…)']],\n",
       " ['0.202', ['HF [27]'], ['Anatase', 'u']],\n",
       " ['4.594', ['Expt. [23]'], ['Rutile', 'a = b (Ã…)']],\n",
       " ['2.958', ['Expt. [23]'], ['Rutile', 'c (Ã…)']],\n",
       " ['0.305', ['Expt. [23]'], ['Rutile', 'u']],\n",
       " ['3.785', ['Expt. [23]'], ['Anatase', 'a = b (Ã…)']],\n",
       " ['9.514', ['Expt. [23]'], ['Anatase', 'c (Ã…)']],\n",
       " ['0.207', ['Expt. [23]'], ['Anatase', 'u']]]"
      ]
     },
     "execution_count": 5,
     "metadata": {},
     "output_type": "execute_result"
    }
   ],
   "source": [
    "# The category table, as a list of lists, can be returned with\n",
    "table.category_table"
   ]
  },
  {
   "cell_type": "code",
   "execution_count": 6,
   "metadata": {},
   "outputs": [
    {
     "name": "stdout",
     "output_type": "stream",
     "text": [
      "0\n",
      "[['This study']\n",
      " ['GGA [25]']\n",
      " ['GGA [26]']\n",
      " ['HF [27]']\n",
      " ['Expt. [23]']]\n",
      "[['Rutile' 'Rutile' 'Rutile' 'Anatase' 'Anatase' 'Anatase']\n",
      " ['a = b (Ã…)' 'c (Ã…)' 'u' 'a = b (Ã…)' 'c (Ã…)' 'u']]\n",
      "[['4.64' '2.99' '0.305' '3.83' '9.62' '0.208']\n",
      " ['4.67' '2.97' '0.305' '3.80' '9.67' '0.207']\n",
      " ['4.63' '2.98' '0.305' '-' '-' '-']\n",
      " ['-' '-' '-' '3.76' '9.85' '0.202']\n",
      " ['4.594' '2.958' '0.305' '3.785' '9.514' '0.207']]\n"
     ]
    }
   ],
   "source": [
    "# other elements that can be retrieved\n",
    "print (table.title_row)\n",
    "print (table.row_header)\n",
    "print (table.col_header)\n",
    "print (table.data)"
   ]
  },
  {
   "cell_type": "code",
   "execution_count": 7,
   "metadata": {},
   "outputs": [
    {
     "data": {
      "text/plain": [
       "Table(./tables/table_example.csv, table_number=1, transposed=True)\n",
       "\n",
       "                     Computational  Computational  Computational  Computational  Experimental  \n",
       "                     This study     GGA [25]       GGA [26]       HF [27]        Expt. [23]    \n",
       "Rutile   a = b (Ã…)  4.64           4.67           4.63           -              4.594         \n",
       "Rutile   c (Ã…)      2.99           2.97           2.98           -              2.958         \n",
       "Rutile   u           0.305          0.305          0.305          -              0.305         \n",
       "Anatase  a = b (Ã…)  3.83           3.80           -              3.76           3.785         \n",
       "Anatase  c (Ã…)      9.62           9.67           -              9.85           9.514         \n",
       "Anatase  u           0.208          0.207          -              0.202          0.207         \n",
       "\n",
       "                        Computational  Computational  Computational  Computational  Experimental  \n",
       "                        This study     GGA [25]       GGA [26]       HF [27]        Expt. [23]    \n",
       "Rutile      a = b (Ã…)  4.64           4.67           4.63           -              4.594         \n",
       "Rutile      c (Ã…)      2.99           2.97           2.98           -              2.958         \n",
       "Rutile      u           0.305          0.305          0.305          -              0.305         \n",
       "Anatase     a = b (Ã…)  3.83           3.80           -              3.76           3.785         \n",
       "Anatase     c (Ã…)      9.62           9.67           -              9.85           9.514         \n",
       "Anatase     u           0.208          0.207          -              0.202          0.207         \n",
       "                                                                                                  \n",
       "TableTitle  TableTitle  TableTitle     TableTitle     TableTitle     TableTitle     TableTitle    \n",
       "StubHeader  StubHeader  ColHeader      ColHeader      ColHeader      ColHeader      ColHeader     \n",
       "RowHeader   RowHeader   Data           Data           Data           Data           Data          \n",
       "RowHeader   RowHeader   Data           Data           Data           Data           Data          \n",
       "RowHeader   RowHeader   Data           Data           Data           Data           Data          \n",
       "RowHeader   RowHeader   Data           Data           Data           Data           Data          \n",
       "RowHeader   RowHeader   Data           Data           Data           Data           Data          \n",
       "RowHeader   RowHeader   Data           Data           Data           Data           Data          \n",
       "\n",
       "+-------+---------------------------+-------------------+\n",
       "|  Data |       Row Categories      | Column Categories |\n",
       "+-------+---------------------------+-------------------+\n",
       "|  4.64 |  ['Rutile', 'a = b (Ã…)'] |   ['This study']  |\n",
       "|  4.67 |  ['Rutile', 'a = b (Ã…)'] |    ['GGA [25]']   |\n",
       "|  4.63 |  ['Rutile', 'a = b (Ã…)'] |    ['GGA [26]']   |\n",
       "|   -   |  ['Rutile', 'a = b (Ã…)'] |    ['HF [27]']    |\n",
       "| 4.594 |  ['Rutile', 'a = b (Ã…)'] |   ['Expt. [23]']  |\n",
       "|  2.99 |    ['Rutile', 'c (Ã…)']   |   ['This study']  |\n",
       "|  2.97 |    ['Rutile', 'c (Ã…)']   |    ['GGA [25]']   |\n",
       "|  2.98 |    ['Rutile', 'c (Ã…)']   |    ['GGA [26]']   |\n",
       "|   -   |    ['Rutile', 'c (Ã…)']   |    ['HF [27]']    |\n",
       "| 2.958 |    ['Rutile', 'c (Ã…)']   |   ['Expt. [23]']  |\n",
       "| 0.305 |      ['Rutile', 'u']      |   ['This study']  |\n",
       "| 0.305 |      ['Rutile', 'u']      |    ['GGA [25]']   |\n",
       "| 0.305 |      ['Rutile', 'u']      |    ['GGA [26]']   |\n",
       "|   -   |      ['Rutile', 'u']      |    ['HF [27]']    |\n",
       "| 0.305 |      ['Rutile', 'u']      |   ['Expt. [23]']  |\n",
       "|  3.83 | ['Anatase', 'a = b (Ã…)'] |   ['This study']  |\n",
       "|  3.80 | ['Anatase', 'a = b (Ã…)'] |    ['GGA [25]']   |\n",
       "|   -   | ['Anatase', 'a = b (Ã…)'] |    ['GGA [26]']   |\n",
       "|  3.76 | ['Anatase', 'a = b (Ã…)'] |    ['HF [27]']    |\n",
       "| 3.785 | ['Anatase', 'a = b (Ã…)'] |   ['Expt. [23]']  |\n",
       "|  9.62 |   ['Anatase', 'c (Ã…)']   |   ['This study']  |\n",
       "|  9.67 |   ['Anatase', 'c (Ã…)']   |    ['GGA [25]']   |\n",
       "|   -   |   ['Anatase', 'c (Ã…)']   |    ['GGA [26]']   |\n",
       "|  9.85 |   ['Anatase', 'c (Ã…)']   |    ['HF [27]']    |\n",
       "| 9.514 |   ['Anatase', 'c (Ã…)']   |   ['Expt. [23]']  |\n",
       "| 0.208 |      ['Anatase', 'u']     |   ['This study']  |\n",
       "| 0.207 |      ['Anatase', 'u']     |    ['GGA [25]']   |\n",
       "|   -   |      ['Anatase', 'u']     |    ['GGA [26]']   |\n",
       "| 0.202 |      ['Anatase', 'u']     |    ['HF [27]']    |\n",
       "| 0.207 |      ['Anatase', 'u']     |   ['Expt. [23]']  |\n",
       "+-------+---------------------------+-------------------+"
      ]
     },
     "execution_count": 7,
     "metadata": {},
     "output_type": "execute_result"
    }
   ],
   "source": [
    "# The table can be transposed if needed\n",
    "table.transpose()\n",
    "table"
   ]
  },
  {
   "cell_type": "markdown",
   "metadata": {},
   "source": [
    "Output\n",
    "========\n",
    "\n",
    "* as csv file\n",
    "* as Pandas DataFrame"
   ]
  },
  {
   "cell_type": "code",
   "execution_count": 8,
   "metadata": {},
   "outputs": [],
   "source": [
    "from tabledataextractor.output.to_csv import write_to_csv"
   ]
  },
  {
   "cell_type": "code",
   "execution_count": 9,
   "metadata": {},
   "outputs": [],
   "source": [
    "# this will now store the transposed table\n",
    "write_to_csv(table.raw_table, './saved_table.csv')"
   ]
  }
 ],
 "metadata": {
  "kernelspec": {
   "display_name": "Python 3",
   "language": "python",
   "name": "python3"
  },
  "language_info": {
   "codemirror_mode": {
    "name": "ipython",
    "version": 3
   },
   "file_extension": ".py",
   "mimetype": "text/x-python",
   "name": "python",
   "nbconvert_exporter": "python",
   "pygments_lexer": "ipython3",
   "version": "3.6.4"
  }
 },
 "nbformat": 4,
 "nbformat_minor": 2
}
