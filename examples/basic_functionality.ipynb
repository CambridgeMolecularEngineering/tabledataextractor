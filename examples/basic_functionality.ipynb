{
 "cells": [
  {
   "cell_type": "markdown",
   "metadata": {},
   "source": [
    "Basics\n",
    "=========="
   ]
  },
  {
   "cell_type": "markdown",
   "metadata": {},
   "source": [
    "Input\n",
    "---------\n",
    "\n",
    "* from file, as .csv or .html\n",
    "* from url (if there are more tables at the provided url, use the ``table_number`` argument)\n",
    "* from python list object\n"
   ]
  },
  {
   "cell_type": "code",
   "execution_count": 1,
   "metadata": {},
   "outputs": [],
   "source": [
    "table_path = '../examples/tables/table_example.csv'\n",
    "\n",
    "from tabledataextractor import Table\n",
    "table = Table(table_path)"
   ]
  },
  {
   "cell_type": "markdown",
   "metadata": {},
   "source": [
    "First we will check out the original table, which is now stored as ``table.raw_table``. We can use the ``print_raw_table()``function within *TableDataExtractor*:"
   ]
  },
  {
   "cell_type": "code",
   "execution_count": 2,
   "metadata": {},
   "outputs": [
    {
     "name": "stdout",
     "output_type": "stream",
     "text": [
      "                           Rutile     Rutile  Rutile  Anatase    Anatase  Anatase  \n",
      "                           a = b (Å)  c (Å)   u       a = b (Å)  c (Å)    u        \n",
      "Computational  This study  4.64       2.99    0.305   3.83       9.62     0.208    \n",
      "Computational  GGA [25]    4.67       2.97    0.305   3.80       9.67     0.207    \n",
      "Computational  GGA [26]    4.63       2.98    0.305   -          -        -        \n",
      "Computational  HF [27]     -          -       -       3.76       9.85     0.202    \n",
      "Experimental   Expt. [23]  4.594      2.958   0.305   3.785      9.514    0.207    \n",
      "\n",
      "\n"
     ]
    }
   ],
   "source": [
    "table.print_raw_table()"
   ]
  },
  {
   "cell_type": "markdown",
   "metadata": {},
   "source": [
    "*TableDataExtractor* provides a *category table*, where each row corresponds to a single data point. This is the main result of *TableDataExtractor*. We can simply ``print`` the table to see it:"
   ]
  },
  {
   "cell_type": "code",
   "execution_count": 3,
   "metadata": {},
   "outputs": [
    {
     "name": "stdout",
     "output_type": "stream",
     "text": [
      "+-------+---------------------------------+--------------------------+\n",
      "|  Data |          Row Categories         |    Column Categories     |\n",
      "+-------+---------------------------------+--------------------------+\n",
      "|  4.64 | ['Computational', 'This study'] | ['Rutile', 'a = b (Å)']  |\n",
      "|  2.99 | ['Computational', 'This study'] |   ['Rutile', 'c (Å)']    |\n",
      "| 0.305 | ['Computational', 'This study'] |     ['Rutile', 'u']      |\n",
      "|  3.83 | ['Computational', 'This study'] | ['Anatase', 'a = b (Å)'] |\n",
      "|  9.62 | ['Computational', 'This study'] |   ['Anatase', 'c (Å)']   |\n",
      "| 0.208 | ['Computational', 'This study'] |     ['Anatase', 'u']     |\n",
      "|  4.67 |  ['Computational', 'GGA [25]']  | ['Rutile', 'a = b (Å)']  |\n",
      "|  2.97 |  ['Computational', 'GGA [25]']  |   ['Rutile', 'c (Å)']    |\n",
      "| 0.305 |  ['Computational', 'GGA [25]']  |     ['Rutile', 'u']      |\n",
      "|  3.80 |  ['Computational', 'GGA [25]']  | ['Anatase', 'a = b (Å)'] |\n",
      "|  9.67 |  ['Computational', 'GGA [25]']  |   ['Anatase', 'c (Å)']   |\n",
      "| 0.207 |  ['Computational', 'GGA [25]']  |     ['Anatase', 'u']     |\n",
      "|  4.63 |  ['Computational', 'GGA [26]']  | ['Rutile', 'a = b (Å)']  |\n",
      "|  2.98 |  ['Computational', 'GGA [26]']  |   ['Rutile', 'c (Å)']    |\n",
      "| 0.305 |  ['Computational', 'GGA [26]']  |     ['Rutile', 'u']      |\n",
      "|   -   |  ['Computational', 'GGA [26]']  | ['Anatase', 'a = b (Å)'] |\n",
      "|   -   |  ['Computational', 'GGA [26]']  |   ['Anatase', 'c (Å)']   |\n",
      "|   -   |  ['Computational', 'GGA [26]']  |     ['Anatase', 'u']     |\n",
      "|   -   |   ['Computational', 'HF [27]']  | ['Rutile', 'a = b (Å)']  |\n",
      "|   -   |   ['Computational', 'HF [27]']  |   ['Rutile', 'c (Å)']    |\n",
      "|   -   |   ['Computational', 'HF [27]']  |     ['Rutile', 'u']      |\n",
      "|  3.76 |   ['Computational', 'HF [27]']  | ['Anatase', 'a = b (Å)'] |\n",
      "|  9.85 |   ['Computational', 'HF [27]']  |   ['Anatase', 'c (Å)']   |\n",
      "| 0.202 |   ['Computational', 'HF [27]']  |     ['Anatase', 'u']     |\n",
      "| 4.594 |  ['Experimental', 'Expt. [23]'] | ['Rutile', 'a = b (Å)']  |\n",
      "| 2.958 |  ['Experimental', 'Expt. [23]'] |   ['Rutile', 'c (Å)']    |\n",
      "| 0.305 |  ['Experimental', 'Expt. [23]'] |     ['Rutile', 'u']      |\n",
      "| 3.785 |  ['Experimental', 'Expt. [23]'] | ['Anatase', 'a = b (Å)'] |\n",
      "| 9.514 |  ['Experimental', 'Expt. [23]'] |   ['Anatase', 'c (Å)']   |\n",
      "| 0.207 |  ['Experimental', 'Expt. [23]'] |     ['Anatase', 'u']     |\n",
      "+-------+---------------------------------+--------------------------+\n"
     ]
    }
   ],
   "source": [
    "print(table)"
   ]
  },
  {
   "cell_type": "markdown",
   "metadata": {},
   "source": [
    "If we want to further process the *category table*, we can access it as a list of lists:"
   ]
  },
  {
   "cell_type": "code",
   "execution_count": 4,
   "metadata": {
    "scrolled": true
   },
   "outputs": [
    {
     "name": "stdout",
     "output_type": "stream",
     "text": [
      "[['4.64', ['Computational', 'This study'], ['Rutile', 'a = b (Å)']], ['2.99', ['Computational', 'This study'], ['Rutile', 'c (Å)']], ['0.305', ['Computational', 'This study'], ['Rutile', 'u']], ['3.83', ['Computational', 'This study'], ['Anatase', 'a = b (Å)']], ['9.62', ['Computational', 'This study'], ['Anatase', 'c (Å)']], ['0.208', ['Computational', 'This study'], ['Anatase', 'u']], ['4.67', ['Computational', 'GGA [25]'], ['Rutile', 'a = b (Å)']], ['2.97', ['Computational', 'GGA [25]'], ['Rutile', 'c (Å)']], ['0.305', ['Computational', 'GGA [25]'], ['Rutile', 'u']], ['3.80', ['Computational', 'GGA [25]'], ['Anatase', 'a = b (Å)']], ['9.67', ['Computational', 'GGA [25]'], ['Anatase', 'c (Å)']], ['0.207', ['Computational', 'GGA [25]'], ['Anatase', 'u']], ['4.63', ['Computational', 'GGA [26]'], ['Rutile', 'a = b (Å)']], ['2.98', ['Computational', 'GGA [26]'], ['Rutile', 'c (Å)']], ['0.305', ['Computational', 'GGA [26]'], ['Rutile', 'u']], ['-', ['Computational', 'GGA [26]'], ['Anatase', 'a = b (Å)']], ['-', ['Computational', 'GGA [26]'], ['Anatase', 'c (Å)']], ['-', ['Computational', 'GGA [26]'], ['Anatase', 'u']], ['-', ['Computational', 'HF [27]'], ['Rutile', 'a = b (Å)']], ['-', ['Computational', 'HF [27]'], ['Rutile', 'c (Å)']], ['-', ['Computational', 'HF [27]'], ['Rutile', 'u']], ['3.76', ['Computational', 'HF [27]'], ['Anatase', 'a = b (Å)']], ['9.85', ['Computational', 'HF [27]'], ['Anatase', 'c (Å)']], ['0.202', ['Computational', 'HF [27]'], ['Anatase', 'u']], ['4.594', ['Experimental', 'Expt. [23]'], ['Rutile', 'a = b (Å)']], ['2.958', ['Experimental', 'Expt. [23]'], ['Rutile', 'c (Å)']], ['0.305', ['Experimental', 'Expt. [23]'], ['Rutile', 'u']], ['3.785', ['Experimental', 'Expt. [23]'], ['Anatase', 'a = b (Å)']], ['9.514', ['Experimental', 'Expt. [23]'], ['Anatase', 'c (Å)']], ['0.207', ['Experimental', 'Expt. [23]'], ['Anatase', 'u']]]\n"
     ]
    }
   ],
   "source": [
    "print(table.category_table)"
   ]
  },
  {
   "cell_type": "markdown",
   "metadata": {},
   "source": [
    "We may wish to access other elements of the table, such as the title row, the row or column headers, and the data:"
   ]
  },
  {
   "cell_type": "code",
   "execution_count": 5,
   "metadata": {},
   "outputs": [
    {
     "name": "stdout",
     "output_type": "stream",
     "text": [
      "Title row:     \n",
      " 0\n",
      "Row header:    \n",
      " [['Computational' 'This study']\n",
      " ['Computational' 'GGA [25]']\n",
      " ['Computational' 'GGA [26]']\n",
      " ['Computational' 'HF [27]']\n",
      " ['Experimental' 'Expt. [23]']]\n",
      "Column header: \n",
      " [['Rutile' 'Rutile' 'Rutile' 'Anatase' 'Anatase' 'Anatase']\n",
      " ['a = b (Å)' 'c (Å)' 'u' 'a = b (Å)' 'c (Å)' 'u']]\n",
      "Data:          \n",
      " [['4.64' '2.99' '0.305' '3.83' '9.62' '0.208']\n",
      " ['4.67' '2.97' '0.305' '3.80' '9.67' '0.207']\n",
      " ['4.63' '2.98' '0.305' '-' '-' '-']\n",
      " ['-' '-' '-' '3.76' '9.85' '0.202']\n",
      " ['4.594' '2.958' '0.305' '3.785' '9.514' '0.207']]\n"
     ]
    }
   ],
   "source": [
    "print (\"Title row:     \\n\", table.title_row)\n",
    "print (\"Row header:    \\n\", table.row_header)\n",
    "print (\"Column header: \\n\", table.col_header)\n",
    "print (\"Data:          \\n\", table.data)"
   ]
  },
  {
   "cell_type": "markdown",
   "metadata": {},
   "source": [
    "If needed we can transpose the whole table, which will return the same category table, with row and column categories interchanged:"
   ]
  },
  {
   "cell_type": "code",
   "execution_count": 6,
   "metadata": {},
   "outputs": [
    {
     "name": "stdout",
     "output_type": "stream",
     "text": [
      "+-------+--------------------------+---------------------------------+\n",
      "|  Data |      Row Categories      |        Column Categories        |\n",
      "+-------+--------------------------+---------------------------------+\n",
      "|  4.64 | ['Rutile', 'a = b (Å)']  | ['Computational', 'This study'] |\n",
      "|  4.67 | ['Rutile', 'a = b (Å)']  |  ['Computational', 'GGA [25]']  |\n",
      "|  4.63 | ['Rutile', 'a = b (Å)']  |  ['Computational', 'GGA [26]']  |\n",
      "|   -   | ['Rutile', 'a = b (Å)']  |   ['Computational', 'HF [27]']  |\n",
      "| 4.594 | ['Rutile', 'a = b (Å)']  |  ['Experimental', 'Expt. [23]'] |\n",
      "|  2.99 |   ['Rutile', 'c (Å)']    | ['Computational', 'This study'] |\n",
      "|  2.97 |   ['Rutile', 'c (Å)']    |  ['Computational', 'GGA [25]']  |\n",
      "|  2.98 |   ['Rutile', 'c (Å)']    |  ['Computational', 'GGA [26]']  |\n",
      "|   -   |   ['Rutile', 'c (Å)']    |   ['Computational', 'HF [27]']  |\n",
      "| 2.958 |   ['Rutile', 'c (Å)']    |  ['Experimental', 'Expt. [23]'] |\n",
      "| 0.305 |     ['Rutile', 'u']      | ['Computational', 'This study'] |\n",
      "| 0.305 |     ['Rutile', 'u']      |  ['Computational', 'GGA [25]']  |\n",
      "| 0.305 |     ['Rutile', 'u']      |  ['Computational', 'GGA [26]']  |\n",
      "|   -   |     ['Rutile', 'u']      |   ['Computational', 'HF [27]']  |\n",
      "| 0.305 |     ['Rutile', 'u']      |  ['Experimental', 'Expt. [23]'] |\n",
      "|  3.83 | ['Anatase', 'a = b (Å)'] | ['Computational', 'This study'] |\n",
      "|  3.80 | ['Anatase', 'a = b (Å)'] |  ['Computational', 'GGA [25]']  |\n",
      "|   -   | ['Anatase', 'a = b (Å)'] |  ['Computational', 'GGA [26]']  |\n",
      "|  3.76 | ['Anatase', 'a = b (Å)'] |   ['Computational', 'HF [27]']  |\n",
      "| 3.785 | ['Anatase', 'a = b (Å)'] |  ['Experimental', 'Expt. [23]'] |\n",
      "|  9.62 |   ['Anatase', 'c (Å)']   | ['Computational', 'This study'] |\n",
      "|  9.67 |   ['Anatase', 'c (Å)']   |  ['Computational', 'GGA [25]']  |\n",
      "|   -   |   ['Anatase', 'c (Å)']   |  ['Computational', 'GGA [26]']  |\n",
      "|  9.85 |   ['Anatase', 'c (Å)']   |   ['Computational', 'HF [27]']  |\n",
      "| 9.514 |   ['Anatase', 'c (Å)']   |  ['Experimental', 'Expt. [23]'] |\n",
      "| 0.208 |     ['Anatase', 'u']     | ['Computational', 'This study'] |\n",
      "| 0.207 |     ['Anatase', 'u']     |  ['Computational', 'GGA [25]']  |\n",
      "|   -   |     ['Anatase', 'u']     |  ['Computational', 'GGA [26]']  |\n",
      "| 0.202 |     ['Anatase', 'u']     |   ['Computational', 'HF [27]']  |\n",
      "| 0.207 |     ['Anatase', 'u']     |  ['Experimental', 'Expt. [23]'] |\n",
      "+-------+--------------------------+---------------------------------+\n"
     ]
    }
   ],
   "source": [
    "table.transpose()\n",
    "print(table)"
   ]
  },
  {
   "cell_type": "markdown",
   "metadata": {},
   "source": [
    "Output & Pandas\n",
    "------------------------\n",
    "\n",
    "* as csv file\n",
    "* as Pandas DataFrame"
   ]
  },
  {
   "cell_type": "markdown",
   "metadata": {},
   "source": [
    "To store the table as ``.csv``:"
   ]
  },
  {
   "cell_type": "code",
   "execution_count": 7,
   "metadata": {},
   "outputs": [],
   "source": [
    "table.to_csv('./saved_table.csv')"
   ]
  },
  {
   "cell_type": "markdown",
   "metadata": {},
   "source": [
    "The table can also be converted to a Pandas DataFrame object:"
   ]
  },
  {
   "cell_type": "code",
   "execution_count": 8,
   "metadata": {},
   "outputs": [
    {
     "data": {
      "text/html": [
       "<div>\n",
       "<style scoped>\n",
       "    .dataframe tbody tr th:only-of-type {\n",
       "        vertical-align: middle;\n",
       "    }\n",
       "\n",
       "    .dataframe tbody tr th {\n",
       "        vertical-align: top;\n",
       "    }\n",
       "\n",
       "    .dataframe thead tr th {\n",
       "        text-align: left;\n",
       "    }\n",
       "</style>\n",
       "<table border=\"1\" class=\"dataframe\">\n",
       "  <thead>\n",
       "    <tr>\n",
       "      <th></th>\n",
       "      <th></th>\n",
       "      <th colspan=\"4\" halign=\"left\">Computational</th>\n",
       "      <th>Experimental</th>\n",
       "    </tr>\n",
       "    <tr>\n",
       "      <th></th>\n",
       "      <th></th>\n",
       "      <th>This study</th>\n",
       "      <th>GGA [25]</th>\n",
       "      <th>GGA [26]</th>\n",
       "      <th>HF [27]</th>\n",
       "      <th>Expt. [23]</th>\n",
       "    </tr>\n",
       "  </thead>\n",
       "  <tbody>\n",
       "    <tr>\n",
       "      <th rowspan=\"3\" valign=\"top\">Rutile</th>\n",
       "      <th>a = b (Å)</th>\n",
       "      <td>4.64</td>\n",
       "      <td>4.67</td>\n",
       "      <td>4.63</td>\n",
       "      <td>-</td>\n",
       "      <td>4.594</td>\n",
       "    </tr>\n",
       "    <tr>\n",
       "      <th>c (Å)</th>\n",
       "      <td>2.99</td>\n",
       "      <td>2.97</td>\n",
       "      <td>2.98</td>\n",
       "      <td>-</td>\n",
       "      <td>2.958</td>\n",
       "    </tr>\n",
       "    <tr>\n",
       "      <th>u</th>\n",
       "      <td>0.305</td>\n",
       "      <td>0.305</td>\n",
       "      <td>0.305</td>\n",
       "      <td>-</td>\n",
       "      <td>0.305</td>\n",
       "    </tr>\n",
       "    <tr>\n",
       "      <th rowspan=\"3\" valign=\"top\">Anatase</th>\n",
       "      <th>a = b (Å)</th>\n",
       "      <td>3.83</td>\n",
       "      <td>3.80</td>\n",
       "      <td>-</td>\n",
       "      <td>3.76</td>\n",
       "      <td>3.785</td>\n",
       "    </tr>\n",
       "    <tr>\n",
       "      <th>c (Å)</th>\n",
       "      <td>9.62</td>\n",
       "      <td>9.67</td>\n",
       "      <td>-</td>\n",
       "      <td>9.85</td>\n",
       "      <td>9.514</td>\n",
       "    </tr>\n",
       "    <tr>\n",
       "      <th>u</th>\n",
       "      <td>0.208</td>\n",
       "      <td>0.207</td>\n",
       "      <td>-</td>\n",
       "      <td>0.202</td>\n",
       "      <td>0.207</td>\n",
       "    </tr>\n",
       "  </tbody>\n",
       "</table>\n",
       "</div>"
      ],
      "text/plain": [
       "                  Computational                           Experimental\n",
       "                     This study GGA [25] GGA [26] HF [27]   Expt. [23]\n",
       "Rutile  a = b (Å)          4.64     4.67     4.63       -        4.594\n",
       "        c (Å)              2.99     2.97     2.98       -        2.958\n",
       "        u                 0.305    0.305    0.305       -        0.305\n",
       "Anatase a = b (Å)          3.83     3.80        -    3.76        3.785\n",
       "        c (Å)              9.62     9.67        -    9.85        9.514\n",
       "        u                 0.208    0.207        -   0.202        0.207"
      ]
     },
     "execution_count": 8,
     "metadata": {},
     "output_type": "execute_result"
    }
   ],
   "source": [
    "import pandas\n",
    "df = table.to_pandas()\n",
    "df"
   ]
  },
  {
   "cell_type": "markdown",
   "metadata": {},
   "source": [
    "We can now use all the powerful features of Pandas to interpret the content of the table. Lets say that we are interested in the experimental values for 'Anatase':"
   ]
  },
  {
   "cell_type": "code",
   "execution_count": 9,
   "metadata": {},
   "outputs": [
    {
     "data": {
      "text/html": [
       "<div>\n",
       "<style scoped>\n",
       "    .dataframe tbody tr th:only-of-type {\n",
       "        vertical-align: middle;\n",
       "    }\n",
       "\n",
       "    .dataframe tbody tr th {\n",
       "        vertical-align: top;\n",
       "    }\n",
       "\n",
       "    .dataframe thead th {\n",
       "        text-align: right;\n",
       "    }\n",
       "</style>\n",
       "<table border=\"1\" class=\"dataframe\">\n",
       "  <thead>\n",
       "    <tr style=\"text-align: right;\">\n",
       "      <th></th>\n",
       "      <th>Expt. [23]</th>\n",
       "    </tr>\n",
       "  </thead>\n",
       "  <tbody>\n",
       "    <tr>\n",
       "      <th>a = b (Å)</th>\n",
       "      <td>3.785</td>\n",
       "    </tr>\n",
       "    <tr>\n",
       "      <th>c (Å)</th>\n",
       "      <td>9.514</td>\n",
       "    </tr>\n",
       "    <tr>\n",
       "      <th>u</th>\n",
       "      <td>0.207</td>\n",
       "    </tr>\n",
       "  </tbody>\n",
       "</table>\n",
       "</div>"
      ],
      "text/plain": [
       "          Expt. [23]\n",
       "a = b (Å)      3.785\n",
       "c (Å)          9.514\n",
       "u              0.207"
      ]
     },
     "execution_count": 9,
     "metadata": {},
     "output_type": "execute_result"
    }
   ],
   "source": [
    "df.loc['Anatase','Experimental']"
   ]
  },
  {
   "cell_type": "markdown",
   "metadata": {},
   "source": [
    "The most powerful feature of TableDataExtractor is that it will automatically create a ``MultiIndex`` for the Pandas DataFrame, which would traditionally be done by hand for every individual table."
   ]
  },
  {
   "cell_type": "code",
   "execution_count": 10,
   "metadata": {},
   "outputs": [
    {
     "name": "stdout",
     "output_type": "stream",
     "text": [
      "MultiIndex(levels=[['Anatase', 'Rutile'], ['a = b (Å)', 'c (Å)', 'u']],\n",
      "           labels=[[1, 1, 1, 0, 0, 0], [0, 1, 2, 0, 1, 2]])\n",
      "MultiIndex(levels=[['Computational', 'Experimental'], ['Expt. [23]', 'GGA [25]', 'GGA [26]', 'HF [27]', 'This study']],\n",
      "           labels=[[0, 0, 0, 0, 1], [4, 1, 2, 3, 0]])\n"
     ]
    }
   ],
   "source": [
    "print(df.index)\n",
    "print(df.columns)"
   ]
  },
  {
   "cell_type": "markdown",
   "metadata": {},
   "source": [
    "Or, we might be interested in only the 'c (Å)' values from the table. Here, ``ilevel_1`` specifies the *index level* of *1*, which includes <font face=\"Courier\">a=b(Å)</font>, <font face=\"Courier\">c(Å)</font> and <font face=\"Courier\">u</font>:"
   ]
  },
  {
   "cell_type": "code",
   "execution_count": 11,
   "metadata": {},
   "outputs": [
    {
     "data": {
      "text/html": [
       "<div>\n",
       "<style scoped>\n",
       "    .dataframe tbody tr th:only-of-type {\n",
       "        vertical-align: middle;\n",
       "    }\n",
       "\n",
       "    .dataframe tbody tr th {\n",
       "        vertical-align: top;\n",
       "    }\n",
       "\n",
       "    .dataframe thead tr th {\n",
       "        text-align: left;\n",
       "    }\n",
       "</style>\n",
       "<table border=\"1\" class=\"dataframe\">\n",
       "  <thead>\n",
       "    <tr>\n",
       "      <th></th>\n",
       "      <th></th>\n",
       "      <th colspan=\"4\" halign=\"left\">Computational</th>\n",
       "      <th>Experimental</th>\n",
       "    </tr>\n",
       "    <tr>\n",
       "      <th></th>\n",
       "      <th></th>\n",
       "      <th>This study</th>\n",
       "      <th>GGA [25]</th>\n",
       "      <th>GGA [26]</th>\n",
       "      <th>HF [27]</th>\n",
       "      <th>Expt. [23]</th>\n",
       "    </tr>\n",
       "  </thead>\n",
       "  <tbody>\n",
       "    <tr>\n",
       "      <th>Rutile</th>\n",
       "      <th>c (Å)</th>\n",
       "      <td>2.99</td>\n",
       "      <td>2.97</td>\n",
       "      <td>2.98</td>\n",
       "      <td>-</td>\n",
       "      <td>2.958</td>\n",
       "    </tr>\n",
       "    <tr>\n",
       "      <th>Anatase</th>\n",
       "      <th>c (Å)</th>\n",
       "      <td>9.62</td>\n",
       "      <td>9.67</td>\n",
       "      <td>-</td>\n",
       "      <td>9.85</td>\n",
       "      <td>9.514</td>\n",
       "    </tr>\n",
       "  </tbody>\n",
       "</table>\n",
       "</div>"
      ],
      "text/plain": [
       "              Computational                           Experimental\n",
       "                 This study GGA [25] GGA [26] HF [27]   Expt. [23]\n",
       "Rutile  c (Å)          2.99     2.97     2.98       -        2.958\n",
       "Anatase c (Å)          9.62     9.67        -    9.85        9.514"
      ]
     },
     "execution_count": 11,
     "metadata": {},
     "output_type": "execute_result"
    }
   ],
   "source": [
    "df.query('ilevel_1 == \"c (Å)\"')"
   ]
  }
 ],
 "metadata": {
  "kernelspec": {
   "display_name": "Python 3",
   "language": "python",
   "name": "python3"
  },
  "language_info": {
   "codemirror_mode": {
    "name": "ipython",
    "version": 3
   },
   "file_extension": ".py",
   "mimetype": "text/x-python",
   "name": "python",
   "nbconvert_exporter": "python",
   "pygments_lexer": "ipython3",
   "version": "3.6.4"
  }
 },
 "nbformat": 4,
 "nbformat_minor": 2
}
