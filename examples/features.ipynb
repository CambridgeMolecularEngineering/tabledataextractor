{
 "cells": [
  {
   "cell_type": "markdown",
   "metadata": {},
   "source": [
    "Features\n",
    "==========\n",
    "\n",
    "*TableDataExtractor* uses a variety of algorithms to represent a table in standardized format. They work independently of the input format in which the table was provided. Thus, *TableDataExtractor* works equally as good for `.csv` files, as for `.html` files."
   ]
  },
  {
   "cell_type": "markdown",
   "metadata": {},
   "source": [
    "Standardized Table\n",
    "----------------------------\n",
    "\n",
    "The main feature of *TableDataExtractor* is the standardization of the input table. All algorithms and features presented herein have the goal to create a higher quality standardized table. This can subsequenlty be used for automated parsing, and automated retrieval of information from the table.\n",
    "\n",
    "The standardized table (*category table*) can be output as a list as `table.category_table` or simply printed with `print(table)`.\n",
    "Table example from Embley et. al (2016):"
   ]
  },
  {
   "cell_type": "code",
   "execution_count": 1,
   "metadata": {},
   "outputs": [
    {
     "name": "stdout",
     "output_type": "stream",
     "text": [
      "1 Development                                                                                        \n",
      "Country        Million dollar  Million dollar  Million dollar  Percentage of GNI  Percentage of GNI  \n",
      "               2007            2010*           2011* a.        2007               2011               \n",
      "First table                                                                                          \n",
      "Australia      3735            4580            4936            0.95               1                  \n",
      "Greece         2669            3826            4799            0.32               0.35               \n",
      "New Zealand    320             342             429             0.27               0.28               \n",
      "OECD/DAC c     104206          128465          133526          0.27               0.31               \n",
      "c              (unreliable)                                                                          \n",
      "* world bank                                                                                         \n",
      "a.                                                                                                   \n",
      "\n",
      "\n",
      "+--------+---------------------------+-------------------------------------------+\n",
      "|  Data  |       Row Categories      |             Column Categories             |\n",
      "+--------+---------------------------+-------------------------------------------+\n",
      "|  3735  |       ['Australia']       |         ['Million dollar', '2007']        |\n",
      "|  4580  |       ['Australia']       |   ['Million dollar', '2010 world bank ']  |\n",
      "|  4936  |       ['Australia']       | ['Million dollar', '2011 world bank    '] |\n",
      "|  0.95  |       ['Australia']       |       ['Percentage of GNI', '2007']       |\n",
      "|   1    |       ['Australia']       |       ['Percentage of GNI', '2011']       |\n",
      "|  2669  |         ['Greece']        |         ['Million dollar', '2007']        |\n",
      "|  3826  |         ['Greece']        |   ['Million dollar', '2010 world bank ']  |\n",
      "|  4799  |         ['Greece']        | ['Million dollar', '2011 world bank    '] |\n",
      "|  0.32  |         ['Greece']        |       ['Percentage of GNI', '2007']       |\n",
      "|  0.35  |         ['Greece']        |       ['Percentage of GNI', '2011']       |\n",
      "|  320   |      ['New Zealand']      |         ['Million dollar', '2007']        |\n",
      "|  342   |      ['New Zealand']      |   ['Million dollar', '2010 world bank ']  |\n",
      "|  429   |      ['New Zealand']      | ['Million dollar', '2011 world bank    '] |\n",
      "|  0.27  |      ['New Zealand']      |       ['Percentage of GNI', '2007']       |\n",
      "|  0.28  |      ['New Zealand']      |       ['Percentage of GNI', '2011']       |\n",
      "| 104206 | ['OECD/DAC (unreliable)'] |         ['Million dollar', '2007']        |\n",
      "| 128465 | ['OECD/DAC (unreliable)'] |   ['Million dollar', '2010 world bank ']  |\n",
      "| 133526 | ['OECD/DAC (unreliable)'] | ['Million dollar', '2011 world bank    '] |\n",
      "|  0.27  | ['OECD/DAC (unreliable)'] |       ['Percentage of GNI', '2007']       |\n",
      "|  0.31  | ['OECD/DAC (unreliable)'] |       ['Percentage of GNI', '2011']       |\n",
      "+--------+---------------------------+-------------------------------------------+\n"
     ]
    }
   ],
   "source": [
    "from tabledataextractor import Table\n",
    "\n",
    "file = '../examples/tables/table_example_footnotes.csv'\n",
    "table = Table(file)\n",
    "\n",
    "table.print_raw_table()\n",
    "print(table)"
   ]
  },
  {
   "cell_type": "markdown",
   "metadata": {},
   "source": [
    "Nested Headers and Cell Labelling\n",
    "-------------------------------------------------\n",
    "\n",
    "The *data region* of an input table is isolated, taking complex row/column header structures into account and preserving the information about which header categories a particular data point belongs to. The table cells are labelled, according to their role in the table, as *Data*, *Row Header*, *Column Header*, *Stub Header*, *Title*, *Footnote*, *Footnote Text*, and *Note* cells."
   ]
  },
  {
   "cell_type": "code",
   "execution_count": 2,
   "metadata": {},
   "outputs": [
    {
     "name": "stdout",
     "output_type": "stream",
     "text": [
      "1 Development                                                                                        \n",
      "Country        Million dollar  Million dollar  Million dollar  Percentage of GNI  Percentage of GNI  \n",
      "               2007            2010*           2011* a.        2007               2011               \n",
      "First table                                                                                          \n",
      "Australia      3735            4580            4936            0.95               1                  \n",
      "Greece         2669            3826            4799            0.32               0.35               \n",
      "New Zealand    320             342             429             0.27               0.28               \n",
      "OECD/DAC c     104206          128465          133526          0.27               0.31               \n",
      "c              (unreliable)                                                                          \n",
      "* world bank                                                                                         \n",
      "a.                                                                                                   \n",
      "\n",
      "\n",
      "TableTitle         TableTitle  TableTitle         TableTitle                 TableTitle  TableTitle  \n",
      "StubHeader         ColHeader   ColHeader          ColHeader                  ColHeader   ColHeader   \n",
      "StubHeader         ColHeader   ColHeader & FNref  ColHeader & FNref & FNref  ColHeader   ColHeader   \n",
      "Note               /           /                  /                          /           /           \n",
      "RowHeader          Data        Data               Data                       Data        Data        \n",
      "RowHeader          Data        Data               Data                       Data        Data        \n",
      "RowHeader          Data        Data               Data                       Data        Data        \n",
      "RowHeader & FNref  Data        Data               Data                       Data        Data        \n",
      "FNprefix           FNtext      /                  /                          /           /           \n",
      "FNprefix & FNtext  /           /                  /                          /           /           \n",
      "FNprefix           /           /                  /                          /           /           \n",
      "\n",
      "\n"
     ]
    }
   ],
   "source": [
    "from tabledataextractor.output.print import print_table\n",
    "table.print_raw_table()\n",
    "print_table(table.labels)"
   ]
  },
  {
   "cell_type": "markdown",
   "metadata": {},
   "source": [
    "Prefixing of headers\n",
    "-----------------------------\n",
    "\n",
    "In many tables the headers are non-conclusive, meaning that they include duplicate elements that are usually highlighted in bold or italics. Due to the highlighting the structure of the table can still be understood by the reader. However, since *TableDataExtractor* doesn't take any graphical features into account, but only consideres the raw content of cells in tabular format,  a *prefixing* step needs to be performed in some cases to find the header region correctly.\n",
    "\n",
    "Since the main algorithm used to find the data region, the MIPS algorithm (*Minimum Indexing Point Search*), relies on duplicate entries in the header regions, the prefixing step is done in an iterative fashion. First, the headers are found and only afterwards the prefixing is performed. By comparison of the new results before and after a decision is made whether to accept the prefixing or not.\n",
    "\n",
    "Two examples of prefixing are shown below, for the column and row header, respectively (examples from Embley et. al 2016).\n",
    "Prefixing can be turned off by setting the `use_prefixing = False` keyword argument upon creation of the `Table` instance."
   ]
  },
  {
   "cell_type": "code",
   "execution_count": 3,
   "metadata": {},
   "outputs": [
    {
     "name": "stdout",
     "output_type": "stream",
     "text": [
      "Table 9.                                                                           \n",
      "Year      Short messages  Change %  Other messages  Multimedia messages  Change %  \n",
      "2003      1647218         24.3      347             2314                           \n",
      "2004      2193498         33.2      439             7386                 219.2     \n",
      "\n",
      "\n",
      "Table 9.                                                                                            \n",
      "                          Short messages                                       Multimedia messages  \n",
      "Year      Short messages  Change %        Other messages  Multimedia messages  Change %             \n",
      "2003      1647218         24.3            347             2314                                      \n",
      "2004      2193498         33.2            439             7386                 219.2                \n",
      "\n",
      "\n",
      "TableTitle  TableTitle  TableTitle  TableTitle  TableTitle  TableTitle  \n",
      "StubHeader  ColHeader   ColHeader   ColHeader   ColHeader   ColHeader   \n",
      "StubHeader  ColHeader   ColHeader   ColHeader   ColHeader   ColHeader   \n",
      "RowHeader   Data        Data        Data        Data        Data        \n",
      "RowHeader   Data        Data        Data        Data        Data        \n",
      "\n",
      "\n"
     ]
    }
   ],
   "source": [
    "file = '../examples/tables/table_example8.csv'\n",
    "table = Table(file)\n",
    "table.print()"
   ]
  },
  {
   "cell_type": "code",
   "execution_count": 4,
   "metadata": {},
   "outputs": [
    {
     "name": "stdout",
     "output_type": "stream",
     "text": [
      "Year                           2003     2004     \n",
      "Short messages/thousands       1647218  2193498  \n",
      "Change %                       24.3     33.2     \n",
      "Other messages                 347      439      \n",
      "Multimedia messages/thousands  2314     7386     \n",
      "Change %                                219.2    \n",
      "\n",
      "\n",
      "                               Year                           2003     2004     \n",
      "                               Short messages/thousands       1647218  2193498  \n",
      "Short messages/thousands       Change %                       24.3     33.2     \n",
      "                               Other messages                 347      439      \n",
      "                               Multimedia messages/thousands  2314     7386     \n",
      "Multimedia messages/thousands  Change %                                219.2    \n",
      "\n",
      "\n",
      "StubHeader  StubHeader  ColHeader  ColHeader  \n",
      "RowHeader   RowHeader   Data       Data       \n",
      "RowHeader   RowHeader   Data       Data       \n",
      "RowHeader   RowHeader   Data       Data       \n",
      "RowHeader   RowHeader   Data       Data       \n",
      "RowHeader   RowHeader   Data       Data       \n",
      "\n",
      "\n"
     ]
    }
   ],
   "source": [
    "file = '../examples/tables/table_example9.csv'\n",
    "table = Table(file)\n",
    "table.print()"
   ]
  },
  {
   "cell_type": "markdown",
   "metadata": {},
   "source": [
    "Spanning cells\n",
    "----------------------\n",
    "Spanning cells are commonly encountered in tables.\n",
    "This information is easy to retreive if the table is provided in `.html` format. However, if the table is provided as `.csv` file or a python list, the content of spannig cells needs to be duplicated into each one of the spanning cells. *TableDataExtractor* does that automatically.\n",
    "\n",
    "The duplication of spanning cells can be turned off by setting `use_spanning_cells = False` at creation of the `Table` instance.\n",
    "Table example from Embley et. al (2016):"
   ]
  },
  {
   "cell_type": "code",
   "execution_count": 5,
   "metadata": {},
   "outputs": [
    {
     "name": "stdout",
     "output_type": "stream",
     "text": [
      "Pupils in comprehensive schools                                                                                          \n",
      "Year                             School  Pupils                                           Grade 1  Leaving certificates  \n",
      "                                         Pre-primary  Grades          Additional  Total                                  \n",
      "                                                      6 Jan   9 Jul                                                      \n",
      "1990                             4869    2189         389410  197719              592920  67427    61054                 \n",
      "1991                             4861    2181         389411  197711  3601        592921  67421                          \n",
      "\n",
      "\n",
      "Pupils in comprehensive schools                                                                                          \n",
      "Year                             School  Pupils       Pupils  Pupils  Pupils      Pupils  Grade 1  Leaving certificates  \n",
      "Year                             School  Pre-primary  Grades  Grades  Additional  Total   Grade 1  Leaving certificates  \n",
      "Year                             School  Pre-primary  6 Jan   9 Jul   Additional  Total   Grade 1  Leaving certificates  \n",
      "1990                             4869    2189         389410  197719              592920  67427    61054                 \n",
      "1991                             4861    2181         389411  197711  3601        592921  67421                          \n",
      "\n",
      "\n",
      "TableTitle  TableTitle  TableTitle  TableTitle  TableTitle  TableTitle  TableTitle  TableTitle  TableTitle  \n",
      "StubHeader  ColHeader   ColHeader   ColHeader   ColHeader   ColHeader   ColHeader   ColHeader   ColHeader   \n",
      "StubHeader  ColHeader   ColHeader   ColHeader   ColHeader   ColHeader   ColHeader   ColHeader   ColHeader   \n",
      "StubHeader  ColHeader   ColHeader   ColHeader   ColHeader   ColHeader   ColHeader   ColHeader   ColHeader   \n",
      "RowHeader   Data        Data        Data        Data        Data        Data        Data        Data        \n",
      "RowHeader   Data        Data        Data        Data        Data        Data        Data        Data        \n",
      "\n",
      "\n"
     ]
    }
   ],
   "source": [
    "file = '../examples/tables/te_04.csv'\n",
    "table = Table(file)\n",
    "table.print()"
   ]
  },
  {
   "cell_type": "markdown",
   "metadata": {},
   "source": [
    "Subtables\n",
    "---------------\n",
    "If there are many tables nested within a single input table, and if they are of a compatible header structure, *TableDataExtractor* will automatically process them. `table.subtables` will contain a list of those subtables, where each entry will be an instance of the *TableDataExtractor* `Table` class."
   ]
  },
  {
   "cell_type": "code",
   "execution_count": 6,
   "metadata": {},
   "outputs": [
    {
     "name": "stdout",
     "output_type": "stream",
     "text": [
      "Material  Tc    A  Material     Tc    A  Material  Tc    \n",
      "Bi6Tl3    6.5   x  TiN          1.4   y  TiO2      1.1   \n",
      "Sb2Tl7    5.5   y  TiC          1.1   x  TiO3      1.2   \n",
      "Na2Pb5    7.2   z  TaC          9.2   x  TiO4      1.3   \n",
      "Hg5Tl7    3.8   x  NbC          10.1  a  TiO5      1.4   \n",
      "Au2Bi     1.84  x  ZrB          2.82  x  TiO6      1.5   \n",
      "CuS       1.6   x  TaSi         4.2   x  TiO7      1.6   \n",
      "VN        1.3   x  PbS          4.1   x  TiO8      1.7   \n",
      "WC        2.8   x  Pb-As alloy  8.4   x  TiO9      1.8   \n",
      "W2C       2.05  x  Pb-Sn-Bi     8.5   x  TiO10     1.9   \n",
      "MoC       7.7   x  Pb-As-Bi     9.0   x  TiO11     1.10  \n",
      "Mo2C      2.4   x  Pb-Bi-Sb     8.9   x  TiO12     1.11  \n",
      "\n",
      "\n",
      "Material  Tc    A  \n",
      "Bi6Tl3    6.5   x  \n",
      "Sb2Tl7    5.5   y  \n",
      "Na2Pb5    7.2   z  \n",
      "Hg5Tl7    3.8   x  \n",
      "Au2Bi     1.84  x  \n",
      "CuS       1.6   x  \n",
      "VN        1.3   x  \n",
      "WC        2.8   x  \n",
      "W2C       2.05  x  \n",
      "MoC       7.7   x  \n",
      "Mo2C      2.4   x  \n",
      "\n",
      "\n",
      "Material     Tc    A  \n",
      "TiN          1.4   y  \n",
      "TiC          1.1   x  \n",
      "TaC          9.2   x  \n",
      "NbC          10.1  a  \n",
      "ZrB          2.82  x  \n",
      "TaSi         4.2   x  \n",
      "PbS          4.1   x  \n",
      "Pb-As alloy  8.4   x  \n",
      "Pb-Sn-Bi     8.5   x  \n",
      "Pb-As-Bi     9.0   x  \n",
      "Pb-Bi-Sb     8.9   x  \n",
      "\n",
      "\n",
      "Material  Tc    \n",
      "TiO2      1.1   \n",
      "TiO3      1.2   \n",
      "TiO4      1.3   \n",
      "TiO5      1.4   \n",
      "TiO6      1.5   \n",
      "TiO7      1.6   \n",
      "TiO8      1.7   \n",
      "TiO9      1.8   \n",
      "TiO10     1.9   \n",
      "TiO11     1.10  \n",
      "TiO12     1.11  \n",
      "\n",
      "\n"
     ]
    }
   ],
   "source": [
    "file = '../examples/tables/te_06.csv'\n",
    "table = Table(file)\n",
    "table.print_raw_table()\n",
    "\n",
    "table.subtables[0].print_raw_table()\n",
    "table.subtables[1].print_raw_table()\n",
    "table.subtables[2].print_raw_table()"
   ]
  },
  {
   "cell_type": "markdown",
   "metadata": {},
   "source": [
    "Footnotes\n",
    "-------------------\n",
    "\n",
    "*TableDataExtractor* handles footnotes by copying the footnote text into the appropriate cells where the footnotes have been referenced. This is a useful feature for automatic parsing of the *category table*. The copying of the footnote text can be prevented by using the `use_footnotes = False` keyword argument on `Table` creation.\n",
    "\n",
    "Each footnote is a `TableDataExtractor.Footnote` object that contains all the footnote-relevant information. It can be inspected with `print(table.footnotes[0])`.\n",
    "Table example from Embley et. al (2016):"
   ]
  },
  {
   "cell_type": "code",
   "execution_count": 7,
   "metadata": {},
   "outputs": [
    {
     "name": "stdout",
     "output_type": "stream",
     "text": [
      "1 Development                                                                                        \n",
      "Country        Million dollar  Million dollar  Million dollar  Percentage of GNI  Percentage of GNI  \n",
      "               2007            2010*           2011* a.        2007               2011               \n",
      "First table                                                                                          \n",
      "Australia      3735            4580            4936            0.95               1                  \n",
      "Greece         2669            3826            4799            0.32               0.35               \n",
      "New Zealand    320             342             429             0.27               0.28               \n",
      "OECD/DAC c     104206          128465          133526          0.27               0.31               \n",
      "c              (unreliable)                                                                          \n",
      "* world bank                                                                                         \n",
      "a.                                                                                                   \n",
      "\n",
      "\n",
      "1 Development                                                                                                       \n",
      "Country                Million dollar  Million dollar    Million dollar       Percentage of GNI  Percentage of GNI  \n",
      "Country                2007            2010 world bank   2011 world bank      2007               2011               \n",
      "First table                                                                                                         \n",
      "Australia              3735            4580              4936                 0.95               1                  \n",
      "Greece                 2669            3826              4799                 0.32               0.35               \n",
      "New Zealand            320             342               429                  0.27               0.28               \n",
      "OECD/DAC (unreliable)  104206          128465            133526               0.27               0.31               \n",
      "c                      (unreliable)                                                                                 \n",
      "* world bank                                                                                                        \n",
      "a.                                                                                                                  \n",
      "\n",
      "\n",
      "TableTitle         TableTitle  TableTitle         TableTitle                 TableTitle  TableTitle  \n",
      "StubHeader         ColHeader   ColHeader          ColHeader                  ColHeader   ColHeader   \n",
      "StubHeader         ColHeader   ColHeader & FNref  ColHeader & FNref & FNref  ColHeader   ColHeader   \n",
      "Note               /           /                  /                          /           /           \n",
      "RowHeader          Data        Data               Data                       Data        Data        \n",
      "RowHeader          Data        Data               Data                       Data        Data        \n",
      "RowHeader          Data        Data               Data                       Data        Data        \n",
      "RowHeader & FNref  Data        Data               Data                       Data        Data        \n",
      "FNprefix           FNtext      /                  /                          /           /           \n",
      "FNprefix & FNtext  /           /                  /                          /           /           \n",
      "FNprefix           /           /                  /                          /           /           \n",
      "\n",
      "\n",
      "Prefix: 'c'    Text: '(unreliable)'                                                 Ref. Cells: [(7, 0)]   References: ['OECD/DAC c']\n",
      "Prefix: '*'    Text: 'world bank'                                                   Ref. Cells: [(2, 2), (2, 3)]   References: ['2010*', '2011* a.']\n",
      "Prefix: 'a.'   Text: ''                                                             Ref. Cells: [(2, 3)]   References: ['2011 world bank  a.']\n"
     ]
    }
   ],
   "source": [
    "file = '../examples/tables/table_example_footnotes.csv'\n",
    "table = Table(file)\n",
    "table.print()\n",
    "\n",
    "print(table.footnotes[0])\n",
    "print(table.footnotes[1])\n",
    "print(table.footnotes[2])"
   ]
  }
 ],
 "metadata": {
  "kernelspec": {
   "display_name": "Python 3",
   "language": "python",
   "name": "python3"
  },
  "language_info": {
   "codemirror_mode": {
    "name": "ipython",
    "version": 3
   },
   "file_extension": ".py",
   "mimetype": "text/x-python",
   "name": "python",
   "nbconvert_exporter": "python",
   "pygments_lexer": "ipython3",
   "version": "3.6.4"
  }
 },
 "nbformat": 4,
 "nbformat_minor": 2
}